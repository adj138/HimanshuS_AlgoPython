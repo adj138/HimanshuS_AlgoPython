{
 "cells": [
  {
   "cell_type": "markdown",
   "metadata": {},
   "source": [
    "## 75. Sort Colors\n",
    "\n",
    "https://leetcode.com/problems/sort-colors/description/\n",
    "\n",
    "Given an array nums with n objects colored red, white, or blue, sort them in-place so that objects of the same color are adjacent, with the colors in the order red, white, and blue.\n",
    "\n",
    "\n",
    "We will use the integers 0, 1, and 2 to represent the color red, white, and blue, respectively.\n",
    "\n",
    "\n",
    "You must solve this problem without using the library's sort function.\n",
    "\n",
    " \n",
    "\n",
    "### Example 1:\n",
    "\n",
    "Input: nums = [2,0,2,1,1,0] <br>\n",
    "Output: [0,0,1,1,2,2] <br>\n",
    "\n",
    "### Example 2:\n",
    "\n",
    "Input: nums = [2,0,1] <br>\n",
    "Output: [0,1,2] <br>\n",
    " \n",
    "\n",
    "### Constraints:\n",
    "\n",
    "* n == nums.length \n",
    "* 1 <= n <= 300\n",
    "\n",
    "nums[i] is either 0, 1, or 2.\n"
   ]
  },
  {
   "cell_type": "code",
   "execution_count": 4,
   "metadata": {},
   "outputs": [
    {
     "name": "stdout",
     "output_type": "stream",
     "text": [
      "3\n",
      "1\n"
     ]
    }
   ],
   "source": [
    "arr1 = [2,0,2,1,1,0]\n",
    "arr2 = [2,0,1]\n",
    "arr3 = [0,1,0,2,0,1,2,0,1]\n",
    "arr4 = [0] # case for n = 1\n",
    "arr5 = [0,1] # case for n = 2\n",
    "arr4 = [0,1,2] # case for n = 3\n",
    "\n",
    "print(len(arr2))\n",
    "print(arr2[2])"
   ]
  },
  {
   "cell_type": "code",
   "execution_count": 27,
   "metadata": {},
   "outputs": [],
   "source": [
    "def sortColors(nums):\n",
    "    \n",
    "    n = len(nums)-1 #adjusting mismatch between size of array and its index\n",
    "    \n",
    "    print(\"Starting array: \" + str(nums) + \" of length \" + str(n+1)+ \" --- \"*3)\n",
    "\n",
    "    zero = 0 # iterator for 0 (red) starts from the beginning\n",
    "    one = 0 # iterator for 1 (white) starts from the beginning\n",
    "    two = n # iterator for 2 (blue)  starts at the end\n",
    "    \n",
    "    tempswap = 0\n",
    "\n",
    "    while (one <= two):\n",
    "        \n",
    "        if (nums[nums.index(one)] == 0):\n",
    "            print(\"Current array zero-one \" + str(nums))\n",
    "            print(\"Current [Zero, One]\", str([zero, one]))\n",
    "            nums[nums.index(zero)] = tempswap\n",
    "            nums[nums.index(zero)] = nums[nums.index(one)]\n",
    "            nums[nums.index(one)] = tempswap\n",
    "            one += 1\n",
    "            zero += 1\n",
    "            print(\"Resultant array zero-one \" + str(nums))\n",
    "            print(\"New [Zero, One]\", str([zero, one]))\n",
    "\n",
    "        elif (nums[nums.index(one)] == 1):\n",
    "            one += 1\n",
    "\n",
    "        elif (nums[nums.index(one)] == 2):\n",
    "            print(\"Current array one-two \" + str(nums))\n",
    "            print(\"Current [One, Two]\", str([one,two]))\n",
    "            nums[nums.index(two)] = tempswap\n",
    "            nums[nums.index(two)] = nums[nums.index(one)]\n",
    "            nums[nums.index(one)] = tempswap\n",
    "            # not increasing iterator for one\n",
    "            two -= 1\n",
    "            print(\"Resultant array one-two \" + str(nums))\n",
    "            print(\"New [One, Two]\", str([one,two]))\n",
    "    \n",
    "    print(\"Resultant array: \" + str(nums))"
   ]
  },
  {
   "cell_type": "code",
   "execution_count": 28,
   "metadata": {},
   "outputs": [
    {
     "name": "stdout",
     "output_type": "stream",
     "text": [
      "Starting array: [0, 1, 0, 2, 0, 1, 2, 0, 1] of length 9 ---  ---  --- \n",
      "Current array zero-one [0, 1, 0, 2, 0, 1, 2, 0, 1]\n",
      "Current [Zero, One] [0, 0]\n",
      "Resultant array zero-one [0, 1, 0, 2, 0, 1, 2, 0, 1]\n",
      "New [Zero, One] [1, 1]\n",
      "Current array one-two [0, 1, 0, 2, 0, 1, 2, 0, 1]\n",
      "Current [One, Two] [2, 8]\n"
     ]
    },
    {
     "ename": "ValueError",
     "evalue": "8 is not in list",
     "output_type": "error",
     "traceback": [
      "\u001b[0;31m---------------------------------------------------------------------------\u001b[0m",
      "\u001b[0;31mValueError\u001b[0m                                Traceback (most recent call last)",
      "\u001b[1;32m/Users/ankitjariwala/Desktop/Grouped/Python/Algo_Python/HimansuS_AlgoPython/78_Sort_Colors_20230117.ipynb Cell 4\u001b[0m in \u001b[0;36m<module>\u001b[0;34m\u001b[0m\n\u001b[0;32m----> <a href='vscode-notebook-cell:/Users/ankitjariwala/Desktop/Grouped/Python/Algo_Python/HimansuS_AlgoPython/78_Sort_Colors_20230117.ipynb#W3sZmlsZQ%3D%3D?line=0'>1</a>\u001b[0m sortColors(arr3)\n",
      "\u001b[1;32m/Users/ankitjariwala/Desktop/Grouped/Python/Algo_Python/HimansuS_AlgoPython/78_Sort_Colors_20230117.ipynb Cell 4\u001b[0m in \u001b[0;36msortColors\u001b[0;34m(nums)\u001b[0m\n\u001b[1;32m     <a href='vscode-notebook-cell:/Users/ankitjariwala/Desktop/Grouped/Python/Algo_Python/HimansuS_AlgoPython/78_Sort_Colors_20230117.ipynb#W3sZmlsZQ%3D%3D?line=29'>30</a>\u001b[0m \u001b[39mprint\u001b[39m(\u001b[39m\"\u001b[39m\u001b[39mCurrent array one-two \u001b[39m\u001b[39m\"\u001b[39m \u001b[39m+\u001b[39m \u001b[39mstr\u001b[39m(nums))\n\u001b[1;32m     <a href='vscode-notebook-cell:/Users/ankitjariwala/Desktop/Grouped/Python/Algo_Python/HimansuS_AlgoPython/78_Sort_Colors_20230117.ipynb#W3sZmlsZQ%3D%3D?line=30'>31</a>\u001b[0m \u001b[39mprint\u001b[39m(\u001b[39m\"\u001b[39m\u001b[39mCurrent [One, Two]\u001b[39m\u001b[39m\"\u001b[39m, \u001b[39mstr\u001b[39m([one,two]))\n\u001b[0;32m---> <a href='vscode-notebook-cell:/Users/ankitjariwala/Desktop/Grouped/Python/Algo_Python/HimansuS_AlgoPython/78_Sort_Colors_20230117.ipynb#W3sZmlsZQ%3D%3D?line=31'>32</a>\u001b[0m nums[nums\u001b[39m.\u001b[39;49mindex(two)] \u001b[39m=\u001b[39m tempswap\n\u001b[1;32m     <a href='vscode-notebook-cell:/Users/ankitjariwala/Desktop/Grouped/Python/Algo_Python/HimansuS_AlgoPython/78_Sort_Colors_20230117.ipynb#W3sZmlsZQ%3D%3D?line=32'>33</a>\u001b[0m nums[nums\u001b[39m.\u001b[39mindex(two)] \u001b[39m=\u001b[39m nums[nums\u001b[39m.\u001b[39mindex(one)]\n\u001b[1;32m     <a href='vscode-notebook-cell:/Users/ankitjariwala/Desktop/Grouped/Python/Algo_Python/HimansuS_AlgoPython/78_Sort_Colors_20230117.ipynb#W3sZmlsZQ%3D%3D?line=33'>34</a>\u001b[0m nums[nums\u001b[39m.\u001b[39mindex(one)] \u001b[39m=\u001b[39m tempswap\n",
      "\u001b[0;31mValueError\u001b[0m: 8 is not in list"
     ]
    }
   ],
   "source": [
    "sortColors(arr3)"
   ]
  }
 ],
 "metadata": {
  "kernelspec": {
   "display_name": "Python 3.10.2 64-bit",
   "language": "python",
   "name": "python3"
  },
  "language_info": {
   "codemirror_mode": {
    "name": "ipython",
    "version": 3
   },
   "file_extension": ".py",
   "mimetype": "text/x-python",
   "name": "python",
   "nbconvert_exporter": "python",
   "pygments_lexer": "ipython3",
   "version": "3.10.2"
  },
  "orig_nbformat": 4,
  "vscode": {
   "interpreter": {
    "hash": "aee8b7b246df8f9039afb4144a1f6fd8d2ca17a180786b69acc140d282b71a49"
   }
  }
 },
 "nbformat": 4,
 "nbformat_minor": 2
}

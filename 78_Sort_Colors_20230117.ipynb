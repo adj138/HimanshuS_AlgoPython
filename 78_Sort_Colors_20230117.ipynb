{
 "cells": [
  {
   "cell_type": "markdown",
   "metadata": {},
   "source": [
    "## 75. Sort Colors\n",
    "\n",
    "https://leetcode.com/problems/sort-colors/description/\n",
    "\n",
    "Given an array nums with n objects colored red, white, or blue, sort them in-place so that objects of the same color are adjacent, with the colors in the order red, white, and blue.\n",
    "\n",
    "\n",
    "We will use the integers 0, 1, and 2 to represent the color red, white, and blue, respectively.\n",
    "\n",
    "\n",
    "You must solve this problem without using the library's sort function.\n",
    "\n",
    " \n",
    "\n",
    "### Example 1:\n",
    "\n",
    "Input: nums = [2,0,2,1,1,0] <br>\n",
    "Output: [0,0,1,1,2,2] <br>\n",
    "\n",
    "### Example 2:\n",
    "\n",
    "Input: nums = [2,0,1] <br>\n",
    "Output: [0,1,2] <br>\n",
    " \n",
    "\n",
    "### Constraints:\n",
    "\n",
    "* n == nums.length \n",
    "* 1 <= n <= 300\n",
    "\n",
    "nums[i] is either 0, 1, or 2.\n"
   ]
  },
  {
   "cell_type": "code",
   "execution_count": null,
   "metadata": {},
   "outputs": [],
   "source": [
    "arr1 = [2,0,2,1,1,0]\n",
    "arr2 = [2,0,1]"
   ]
  },
  {
   "cell_type": "code",
   "execution_count": null,
   "metadata": {},
   "outputs": [],
   "source": [
    "def sortColors(self, nums: List[int]) -> None:\n",
    "    \n",
    "    for i in nums:\n",
    "        "
   ]
  }
 ],
 "metadata": {
  "language_info": {
   "name": "python"
  },
  "orig_nbformat": 4
 },
 "nbformat": 4,
 "nbformat_minor": 2
}

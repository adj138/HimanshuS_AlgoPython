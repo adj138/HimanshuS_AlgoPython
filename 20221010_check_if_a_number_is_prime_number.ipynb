{
 "cells": [
  {
   "cell_type": "code",
   "execution_count": 3,
   "metadata": {},
   "outputs": [
    {
     "name": "stdout",
     "output_type": "stream",
     "text": [
      "[2, 16, 20, 27, 53]\n"
     ]
    }
   ],
   "source": [
    "arr1 = [2,16,20,27,53]\n",
    "\n",
    "print(arr1)"
   ]
  },
  {
   "cell_type": "markdown",
   "metadata": {},
   "source": [
    "### check a given no is prime or not\tNo leet-code link (Basic Problem)\tOct 10th 2022\tcheck_a_given_no_is_prime_or_not"
   ]
  },
  {
   "cell_type": "markdown",
   "metadata": {},
   "source": [
    "### Find max in array"
   ]
  },
  {
   "cell_type": "code",
   "execution_count": 17,
   "metadata": {},
   "outputs": [
    {
     "name": "stdout",
     "output_type": "stream",
     "text": [
      "2\n",
      "New max = 16\n",
      "New max = 20\n",
      "New max = 27\n",
      "New max = 53\n",
      "max = 53\n"
     ]
    }
   ],
   "source": [
    "max = arr1[0]\n",
    "print(max)\n",
    "\n",
    "for i in arr1:\n",
    "    if (i > max):\n",
    "        max = i\n",
    "        print(\"New max = \" + str(max))\n",
    "\n",
    "print(\"max = \" + str(max))"
   ]
  },
  {
   "cell_type": "code",
   "execution_count": 20,
   "metadata": {},
   "outputs": [],
   "source": [
    "def MaxInArray(arr):\n",
    "    max = arr[0]\n",
    "\n",
    "    for i in arr:\n",
    "        if (i > max):\n",
    "            max = i\n",
    "    return(max)"
   ]
  },
  {
   "cell_type": "code",
   "execution_count": 21,
   "metadata": {},
   "outputs": [
    {
     "data": {
      "text/plain": [
       "53"
      ]
     },
     "execution_count": 21,
     "metadata": {},
     "output_type": "execute_result"
    }
   ],
   "source": [
    "MaxInArray(arr1)"
   ]
  },
  {
   "cell_type": "code",
   "execution_count": 12,
   "metadata": {},
   "outputs": [
    {
     "name": "stdout",
     "output_type": "stream",
     "text": [
      "2 0\n",
      "16 0\n",
      "20 0\n",
      "27 1\n",
      "53 1\n"
     ]
    }
   ],
   "source": [
    "divider = [2]\n",
    "\n",
    "for i in arr1:\n",
    "    # print(i)\n",
    "    # print(arr1.index(i))\n",
    "    # print(i, i%2, sep=\" \")\n",
    "    if (i==0 or i==1 or i==2):\n",
    "    \n",
    "    for j in range(3,MaxInArray):"
   ]
  }
 ],
 "metadata": {
  "kernelspec": {
   "display_name": "Python 3.10.2 64-bit",
   "language": "python",
   "name": "python3"
  },
  "language_info": {
   "codemirror_mode": {
    "name": "ipython",
    "version": 3
   },
   "file_extension": ".py",
   "mimetype": "text/x-python",
   "name": "python",
   "nbconvert_exporter": "python",
   "pygments_lexer": "ipython3",
   "version": "3.10.2"
  },
  "vscode": {
   "interpreter": {
    "hash": "aee8b7b246df8f9039afb4144a1f6fd8d2ca17a180786b69acc140d282b71a49"
   }
  }
 },
 "nbformat": 4,
 "nbformat_minor": 4
}

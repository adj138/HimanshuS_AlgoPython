{
 "cells": [
  {
   "cell_type": "markdown",
   "metadata": {},
   "source": [
    "Intersection of two arrays\t\n",
    "\n",
    "you have been given two SORTED arrays, find out the common element \t\t\t\n",
    "\n",
    "inpt1 = [1,4,6,8,9]     \n",
    "inpt2 = [2,4,5,7,8,10]\t\n",
    "\n",
    "out1 = [4,8]"
   ]
  },
  {
   "cell_type": "code",
   "execution_count": 1,
   "metadata": {},
   "outputs": [],
   "source": [
    "inpt1 = [1,4,6,8,9]     \n",
    "inpt2 = [2,4,5,7,8,10]"
   ]
  },
  {
   "cell_type": "code",
   "execution_count": 15,
   "metadata": {},
   "outputs": [
    {
     "name": "stdout",
     "output_type": "stream",
     "text": [
      "[4, 8]\n"
     ]
    }
   ],
   "source": [
    "# O(n^2)\n",
    "out1 = []\n",
    "\n",
    "for i in inpt2:\n",
    "    for j in inpt1:\n",
    "        if (i == j):\n",
    "            out1.append(i)\n",
    "\n",
    "print(out1)"
   ]
  },
  {
   "cell_type": "code",
   "execution_count": 18,
   "metadata": {},
   "outputs": [
    {
     "name": "stdout",
     "output_type": "stream",
     "text": [
      "[4, 8]\n"
     ]
    }
   ],
   "source": [
    "# O(n)\n",
    "out2 = []\n",
    "\n",
    "a,b = 0,0\n",
    "while (a < len(inpt1) and b < len(inpt2)):\n",
    "\n",
    "    if (inpt1[a] == inpt2[b]):\n",
    "        out2.append(inpt1[a])\n",
    "        a+=1\n",
    "        b+=1\n",
    "    elif (inpt1[a] > inpt2[b]):\n",
    "        b+=1\n",
    "    else:\n",
    "        a+=1\n",
    "\n",
    "print(out2)"
   ]
  }
 ],
 "metadata": {
  "kernelspec": {
   "display_name": "Python 3.10.2 64-bit",
   "language": "python",
   "name": "python3"
  },
  "language_info": {
   "codemirror_mode": {
    "name": "ipython",
    "version": 3
   },
   "file_extension": ".py",
   "mimetype": "text/x-python",
   "name": "python",
   "nbconvert_exporter": "python",
   "pygments_lexer": "ipython3",
   "version": "3.10.2"
  },
  "orig_nbformat": 4,
  "vscode": {
   "interpreter": {
    "hash": "aee8b7b246df8f9039afb4144a1f6fd8d2ca17a180786b69acc140d282b71a49"
   }
  }
 },
 "nbformat": 4,
 "nbformat_minor": 2
}

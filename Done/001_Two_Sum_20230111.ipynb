{
 "cells": [
  {
   "cell_type": "markdown",
   "metadata": {},
   "source": [
    "https://leetcode.com/problems/two-sum/"
   ]
  },
  {
   "cell_type": "markdown",
   "metadata": {},
   "source": [
    "## 1. Two Sum\n",
    "\n",
    "Given an array of integers nums and an integer target, return indices of the two numbers such that they add up to target.\n",
    "\n",
    "You may assume that each input would have exactly one solution, and you may not use the same element twice.\n",
    "\n",
    "You can return the answer in any order.\n",
    "\n",
    " \n",
    "### Example 1:\n",
    "\n",
    "Input: nums = [2,7,11,15], target = 9\n",
    "\n",
    "Output: [0,1]\n",
    "\n",
    "Explanation: Because nums[0] + nums[1] == 9, we return [0, 1].\n",
    "\n",
    "### Example 2:\n",
    "\n",
    "Input: nums = [3,2,4], target = 6\n",
    "\n",
    "Output: [1,2]\n",
    "\n",
    "### Example 3:\n",
    "\n",
    "Input: nums = [3,3], target = 6\n",
    "\n",
    "Output: [0,1]\n",
    " \n",
    "\n",
    "### Constraints:\n",
    "\n",
    "* 2 <= nums.length <= 104\n",
    "* -109 <= nums[i] <= 109\n",
    "* -109 <= target <= 109\n",
    "\n",
    "Only one valid answer exists.\n",
    " \n",
    "\n",
    "Follow-up: Can you come up with an algorithm that is less than O(n2) time complexity?"
   ]
  },
  {
   "cell_type": "code",
   "execution_count": 58,
   "metadata": {},
   "outputs": [],
   "source": [
    "def twoSum(arr,target):\n",
    "    print(\"array length : \" + str(len(arr)))\n",
    "\n",
    "    # for i in range(0,len(arr)):\n",
    "    #     print(i)\n",
    "\n",
    "    for i in range(0,len(arr)):\n",
    "        for j in range(0,len(arr)):\n",
    "            if (i != j and arr[i] + arr[j] == target):\n",
    "                return(print(\"Two Sum adding up to the Target = \" + str(target) + \" are elements at indices: \" + str([i,j]) + \" namely \" + str([arr[i], arr[j]])))\n",
    "    \n",
    "    "
   ]
  },
  {
   "cell_type": "code",
   "execution_count": 59,
   "metadata": {},
   "outputs": [
    {
     "name": "stdout",
     "output_type": "stream",
     "text": [
      "array length : 4\n",
      "0\n",
      "1\n",
      "2\n",
      "3\n",
      "Two Sum adding up to the Target = 9 are elements at indices: [0, 1] namely [2, 7]\n"
     ]
    }
   ],
   "source": [
    "twoSum([2,7,11,15],9)"
   ]
  },
  {
   "cell_type": "code",
   "execution_count": 54,
   "metadata": {},
   "outputs": [
    {
     "name": "stdout",
     "output_type": "stream",
     "text": [
      "array length : 3\n",
      "Two Sum adding up to the Target = 6 are elements at indices: [1, 2] namely [2, 4]\n"
     ]
    }
   ],
   "source": [
    "twoSum([3,2,4],6)"
   ]
  },
  {
   "cell_type": "code",
   "execution_count": 55,
   "metadata": {},
   "outputs": [
    {
     "name": "stdout",
     "output_type": "stream",
     "text": [
      "array length : 2\n",
      "Two Sum adding up to the Target = 6 are elements at indices: [0, 1] namely [3, 3]\n"
     ]
    }
   ],
   "source": [
    "twoSum([3,3],6)"
   ]
  }
 ],
 "metadata": {
  "kernelspec": {
   "display_name": "Python 3.10.2 64-bit",
   "language": "python",
   "name": "python3"
  },
  "language_info": {
   "codemirror_mode": {
    "name": "ipython",
    "version": 3
   },
   "file_extension": ".py",
   "mimetype": "text/x-python",
   "name": "python",
   "nbconvert_exporter": "python",
   "pygments_lexer": "ipython3",
   "version": "3.10.2"
  },
  "vscode": {
   "interpreter": {
    "hash": "aee8b7b246df8f9039afb4144a1f6fd8d2ca17a180786b69acc140d282b71a49"
   }
  }
 },
 "nbformat": 4,
 "nbformat_minor": 4
}

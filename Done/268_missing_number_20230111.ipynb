{
 "cells": [
  {
   "cell_type": "markdown",
   "metadata": {},
   "source": [
    "## 268 Missing Number\n",
    "\n",
    "Given an array nums containing n distinct numbers in the range [0, n], return the only number in the range that is missing from the array.\n",
    "\n",
    " \n",
    "\n",
    "### Example 1:\n",
    "\n",
    "Input: nums = [3,0,1]\n",
    "\n",
    "Output: 2\n",
    "\n",
    "Explanation: n = 3 since there are 3 numbers, so all numbers are in the range [0,3]. 2 is the missing number in the range since it does not appear in nums.\n",
    "\n",
    "### Example 2:\n",
    "\n",
    "Input: nums = [0,1]\n",
    "\n",
    "Output: 2\n",
    "\n",
    "Explanation: n = 2 since there are 2 numbers, so all numbers are in the range [0,2]. 2 is the missing number in the range since it does not appear in nums.\n",
    "\n",
    "### Example 3:\n",
    "\n",
    "Input: nums = [9,6,4,2,3,5,7,0,1]\n",
    "\n",
    "Output: 8\n",
    "\n",
    "Explanation: n = 9 since there are 9 numbers, so all numbers are in the range [0,9]. 8 is the missing number in the range since it does not appear in nums.\n",
    " \n",
    "\n",
    "### Constraints:\n",
    "\n",
    "* n == nums.length\n",
    "* 1 <= n <= 104\n",
    "* 0 <= nums[i] <= n\n",
    "\n",
    "All the numbers of nums are unique.\n",
    " \n",
    "\n",
    "Follow up: Could you implement a solution using only O(1) extra space complexity and O(n) runtime complexity?"
   ]
  },
  {
   "cell_type": "code",
   "execution_count": 34,
   "metadata": {},
   "outputs": [],
   "source": [
    "arr1 = [3,0,1]\n",
    "arr2 = [0,1]\n",
    "arr3 = [9,6,4,2,3,5,7,0,1]"
   ]
  },
  {
   "cell_type": "code",
   "execution_count": 78,
   "metadata": {},
   "outputs": [],
   "source": [
    "def missingArray(arr):\n",
    "    n = len(arr)\n",
    "    max = n\n",
    "    # print(n)\n",
    "    # max = 0\n",
    "    # for i in arr:\n",
    "    #     if (i >= max):\n",
    "    #         max = i\n",
    "    # print(\"max = \" + str(max))\n",
    "    \n",
    "    arrn = []\n",
    "    for i in range(max+1):\n",
    "        #print(i)\n",
    "        arrn.append(0)\n",
    "    \n",
    "    print(\"Original Array: \" + str(arr))\n",
    "    print(\"Array N o 0's: \" + str(arrn))\n",
    "\n",
    "    indexV = 0\n",
    "    for i in arr:\n",
    "        # print(\"Element \" + str(i))\n",
    "        indexV = i\n",
    "        arrn[indexV] = 1\n",
    "\n",
    "    print(\"New Array N: \" + str(arrn))\n",
    "\n",
    "    for i in arrn:\n",
    "        if (i == 0):\n",
    "            print(\"# \" + str(arrn.index(i)) + \" is missing\")"
   ]
  },
  {
   "cell_type": "code",
   "execution_count": 79,
   "metadata": {},
   "outputs": [
    {
     "name": "stdout",
     "output_type": "stream",
     "text": [
      "Original Array: [3, 0, 1]\n",
      "Array N o 0's: [0, 0, 0, 0]\n",
      "New Array N: [1, 1, 0, 1]\n",
      "# 2 is missing\n"
     ]
    }
   ],
   "source": [
    "missingArray(arr1)\n"
   ]
  },
  {
   "cell_type": "code",
   "execution_count": 80,
   "metadata": {},
   "outputs": [
    {
     "name": "stdout",
     "output_type": "stream",
     "text": [
      "Original Array: [0, 1]\n",
      "Array N o 0's: [0, 0, 0]\n",
      "New Array N: [1, 1, 0]\n",
      "# 2 is missing\n"
     ]
    }
   ],
   "source": [
    "missingArray(arr2)"
   ]
  },
  {
   "cell_type": "code",
   "execution_count": 81,
   "metadata": {},
   "outputs": [
    {
     "name": "stdout",
     "output_type": "stream",
     "text": [
      "Original Array: [9, 6, 4, 2, 3, 5, 7, 0, 1]\n",
      "Array N o 0's: [0, 0, 0, 0, 0, 0, 0, 0, 0, 0]\n",
      "New Array N: [1, 1, 1, 1, 1, 1, 1, 1, 0, 1]\n",
      "# 8 is missing\n"
     ]
    }
   ],
   "source": [
    "missingArray(arr3)"
   ]
  }
 ],
 "metadata": {
  "kernelspec": {
   "display_name": "Python 3.10.2 64-bit",
   "language": "python",
   "name": "python3"
  },
  "language_info": {
   "codemirror_mode": {
    "name": "ipython",
    "version": 3
   },
   "file_extension": ".py",
   "mimetype": "text/x-python",
   "name": "python",
   "nbconvert_exporter": "python",
   "pygments_lexer": "ipython3",
   "version": "3.10.2"
  },
  "orig_nbformat": 4,
  "vscode": {
   "interpreter": {
    "hash": "aee8b7b246df8f9039afb4144a1f6fd8d2ca17a180786b69acc140d282b71a49"
   }
  }
 },
 "nbformat": 4,
 "nbformat_minor": 2
}

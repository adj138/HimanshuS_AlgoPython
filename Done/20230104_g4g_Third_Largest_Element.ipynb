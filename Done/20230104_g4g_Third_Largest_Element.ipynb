{
 "cells": [
  {
   "cell_type": "markdown",
   "metadata": {},
   "source": [
    "## Third largest element\n",
    "\n",
    "https://practice.geeksforgeeks.org/problems/third-largest-element/1\n",
    "\n",
    "Given an array of distinct elements. Find the third largest element in it.\n",
    "\n",
    "Suppose you have A[] = {1, 2, 3, 4, 5, 6, 7}, its output will be 5 because it is the 3 largest element in the array A.\n",
    "\n",
    "### Example 1:\n",
    "\n",
    "Input:\n",
    "N = 5\n",
    "A[] = {2,4,1,3,5}\n",
    "Output: 3\n",
    "\n",
    "### Example 2:\n",
    "\n",
    "Input:\n",
    "N = 2\n",
    "A[] = {10,2}\n",
    "Output: -1\n",
    "\n",
    "---\n",
    "Your Task:\n",
    "Complete the function thirdLargest() which takes the array a[] and the size of the array, n, as input parameters and returns the third largest element in the array. It return -1 if there are less than 3 elements in the given array.\n",
    "\n",
    "Expected Time Complexity: O(N)\n",
    "Expected Auxiliary Space: O(1)\n",
    "\n",
    "---\n",
    "### Constraints:\n",
    "1 ≤ N ≤ 105\n",
    "\n",
    "1 ≤ A[i] ≤ 105"
   ]
  },
  {
   "cell_type": "code",
   "execution_count": 31,
   "metadata": {},
   "outputs": [],
   "source": [
    "def thirdlargest(arr):\n",
    "    \n",
    "    n = len(arr)\n",
    "    print(\"n = \", str(n))\n",
    "    \n",
    "    m1,m2,m3 = 0,0,0\n",
    "\n",
    "    if (n < 3):\n",
    "        return(-1)\n",
    "    else:\n",
    "        for i in range(n):\n",
    "            print(\"i = \", str(i))\n",
    "            if (i == 0):\n",
    "                m1 = arr[0]\n",
    "            elif (i == 1 and arr[1] > m1):\n",
    "                m2 = m1\n",
    "                m1 = arr[1]\n",
    "            elif (i == 1 and arr[1] < m1):\n",
    "                m2 = arr[1]\n",
    "            else:\n",
    "                if (arr[i] > m1 and arr[i] > m2 and arr[i] > m3):\n",
    "                    m3 = m2\n",
    "                    m2 = m1\n",
    "                    m1 = arr[i]\n",
    "                elif (arr[i] < m1 and arr[i] > m2 and arr[i] > m3):\n",
    "                    m3 = m2\n",
    "                    m2 = arr[i]\n",
    "                elif (arr[i] < m1 and arr[i] < m2 and arr[i] > m3):\n",
    "                    m3 = arr[i]\n",
    "        return(\"Third Largest element is: \" + str(m3)) # arr.index(m3))\n"
   ]
  },
  {
   "cell_type": "code",
   "execution_count": 32,
   "metadata": {},
   "outputs": [
    {
     "name": "stdout",
     "output_type": "stream",
     "text": [
      "n =  7\n",
      "i =  0\n",
      "i =  1\n",
      "i =  2\n",
      "i =  3\n",
      "i =  4\n",
      "i =  5\n",
      "i =  6\n"
     ]
    },
    {
     "data": {
      "text/plain": [
       "'Third Largest element is: 5'"
      ]
     },
     "execution_count": 32,
     "metadata": {},
     "output_type": "execute_result"
    }
   ],
   "source": [
    "arr1 = [2,4,1,3,5,6,7]\n",
    "arr2 = [10,2]\n",
    "\n",
    "thirdlargest(arr1)\n",
    "# thirdlargest(arr2)"
   ]
  }
 ],
 "metadata": {
  "kernelspec": {
   "display_name": "Python 3.10.2 64-bit",
   "language": "python",
   "name": "python3"
  },
  "language_info": {
   "codemirror_mode": {
    "name": "ipython",
    "version": 3
   },
   "file_extension": ".py",
   "mimetype": "text/x-python",
   "name": "python",
   "nbconvert_exporter": "python",
   "pygments_lexer": "ipython3",
   "version": "3.10.2"
  },
  "orig_nbformat": 4,
  "vscode": {
   "interpreter": {
    "hash": "aee8b7b246df8f9039afb4144a1f6fd8d2ca17a180786b69acc140d282b71a49"
   }
  }
 },
 "nbformat": 4,
 "nbformat_minor": 2
}

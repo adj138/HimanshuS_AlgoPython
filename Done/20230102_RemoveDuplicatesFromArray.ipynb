{
 "cells": [
  {
   "cell_type": "markdown",
   "metadata": {},
   "source": [
    "Remove duplicates from sorted array\n",
    "\n",
    "Input: [1,2,4,4,4,6,8,8,8]\t\n",
    "\n",
    "Output: [1,2,4,6,8]"
   ]
  },
  {
   "cell_type": "code",
   "execution_count": 30,
   "metadata": {},
   "outputs": [],
   "source": [
    "inp1 = [1,2,4,4,4,6,8,8,8]"
   ]
  },
  {
   "cell_type": "code",
   "execution_count": 35,
   "metadata": {},
   "outputs": [],
   "source": [
    "out1 = []\n",
    "\n",
    "for i in range(len(inp1)-1):\n",
    "    if (inp1[i] != inp1[i+1]):\n",
    "        out1.append(inp1[i])\n",
    "\n",
    "# loop does not consider last element to compare with the next (which does not exist)\n",
    "# the loop will never consider '8' and will stop at '6' so adding the edge case\n",
    "out1.append(inp1[len(inp1)-1]) "
   ]
  },
  {
   "cell_type": "code",
   "execution_count": 36,
   "metadata": {},
   "outputs": [
    {
     "name": "stdout",
     "output_type": "stream",
     "text": [
      "[1, 2, 4, 6, 8]\n"
     ]
    }
   ],
   "source": [
    "print(out1)"
   ]
  }
 ],
 "metadata": {
  "kernelspec": {
   "display_name": "Python 3.10.2 64-bit",
   "language": "python",
   "name": "python3"
  },
  "language_info": {
   "codemirror_mode": {
    "name": "ipython",
    "version": 3
   },
   "file_extension": ".py",
   "mimetype": "text/x-python",
   "name": "python",
   "nbconvert_exporter": "python",
   "pygments_lexer": "ipython3",
   "version": "3.10.2"
  },
  "orig_nbformat": 4,
  "vscode": {
   "interpreter": {
    "hash": "aee8b7b246df8f9039afb4144a1f6fd8d2ca17a180786b69acc140d282b71a49"
   }
  }
 },
 "nbformat": 4,
 "nbformat_minor": 2
}

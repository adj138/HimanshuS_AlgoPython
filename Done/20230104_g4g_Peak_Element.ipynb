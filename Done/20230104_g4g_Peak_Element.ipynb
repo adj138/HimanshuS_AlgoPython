{
 "cells": [
  {
   "cell_type": "markdown",
   "metadata": {},
   "source": [
    "## Peak element\n",
    "\n",
    "https://practice.geeksforgeeks.org/problems/peak-element/1\n",
    "\n",
    "An element is called a peak element if its value is not smaller than the value of its adjacent elements (if they exists).\n",
    "\n",
    "Given an array arr[] of size N, Return the index of any one of its peak elements.\n",
    "\n",
    "Note: The generated output will always be 1 if the index that you return is correct. Otherwise output will be 0. \n",
    "\n",
    "\n",
    "## Example 1:\n",
    "\n",
    "Input:  N = 3\n",
    "arr[] = {1,2,3}\n",
    "\n",
    "Possible Answer: 2\n",
    "\n",
    "Generated Output: 1\n",
    "\n",
    "Explanation: index 2 is 3. It is the peak element as it is greater than its neighbour 2.\n",
    "If 2 is returned then the generated output will be 1 else 0.\n",
    "\n",
    "\n",
    "## Example 2:\n",
    "\n",
    "Input: N = 2\n",
    "arr[] = {3,4}\n",
    "\n",
    "Possible Answer: 1\n",
    "\n",
    "Output: 1\n",
    "\n",
    "Explanation: 4 (at index 1) is the peak element as it is greater than its only neighbour element 3.\n",
    "If 1 is returned then the generated output will be 1 else 0.\n",
    "\n",
    "## Example 3: \n",
    "Input N = 6\n",
    "arr[] = [1, 3, 20, 4, 1, 0]\n",
    "return = 20\n",
    "\n",
    "Input = 5\n",
    "arr[] = [8, 3, 2, 1, 0]\n",
    "return = 8\n",
    "\n",
    "Input = 5\n",
    "arr[] = [4,7,9,10,17]\n",
    "return = 17\n",
    "\n",
    "Input = 4\n",
    "arr[] = [20,0,1,0]\n",
    "return = [20,1]\n",
    "COMMENT: arrays can have only 1 peak element and not 2 --like above\n",
    "\n",
    "---\n",
    "Your Task:\n",
    "You don't have to read input or print anything. Complete the function peakElement() which takes the array arr[] and its size N as input parameters and return the index of any one of its peak elements.\n",
    "\n",
    "Can you solve the problem in expected time complexity?\n",
    "\n",
    "Expected Time Complexity: O(log N)\n",
    "\n",
    "Expected Auxiliary Space: O(1)\n",
    "\n",
    "---\n",
    "\n",
    "## Constraints:\n",
    "\n",
    "1 ≤ N ≤ 105\n",
    "\n",
    "1 ≤ A[] ≤ 106\n",
    "\n"
   ]
  },
  {
   "cell_type": "code",
   "execution_count": 21,
   "metadata": {},
   "outputs": [],
   "source": [
    "def peakElement(arr,n):\n",
    "    out1 = 0\n",
    "    PeakElIndex = 0\n",
    "    PeakEl = 0\n",
    "\n",
    "    for i in range(0,n):\n",
    "        if (i == 0):        \n",
    "            if (arr[i] > arr[i+1]):\n",
    "                PeakEl = arr[i]\n",
    "                PeakElIndex = i\n",
    "        \n",
    "        elif (i == n-1):\n",
    "            if (arr[i] > arr[i-1]):\n",
    "                PeakEl = arr[i]\n",
    "                PeakElIndex = i\n",
    "        \n",
    "        else:      \n",
    "            if (arr[i] > arr[i-1] and arr[i] > arr[i+1]):\n",
    "                PeakEl = arr[i]\n",
    "                PeakElIndex = i\n",
    "    print(arr)\n",
    "    print(\"Peak Element = %s and Peak Index = %s \" %(PeakEl,PeakElIndex))\n",
    "    return(PeakEl,PeakElIndex,out1)\n"
   ]
  },
  {
   "cell_type": "code",
   "execution_count": 22,
   "metadata": {},
   "outputs": [
    {
     "name": "stdout",
     "output_type": "stream",
     "text": [
      "[1, 2, 3]\n",
      "Peak Element = 3 and Peak Index = 2 \n"
     ]
    },
    {
     "data": {
      "text/plain": [
       "(3, 2, 0)"
      ]
     },
     "execution_count": 22,
     "metadata": {},
     "output_type": "execute_result"
    }
   ],
   "source": [
    "arr1 = [1,2,3]\n",
    "arr2 = [1, 3, 20, 4, 1, 0]\n",
    "arr3 = [8, 3, 2, 1, 0]\n",
    "arr4 = [4,7,9,10,17]\n",
    "arr5 = [20,0,1,0]\n",
    "\n",
    "peakElement(arr1,len(arr1))"
   ]
  },
  {
   "cell_type": "code",
   "execution_count": 23,
   "metadata": {},
   "outputs": [
    {
     "name": "stdout",
     "output_type": "stream",
     "text": [
      "[1, 3, 20, 4, 1, 0]\n",
      "Peak Element = 20 and Peak Index = 2 \n"
     ]
    },
    {
     "data": {
      "text/plain": [
       "(20, 2, 0)"
      ]
     },
     "execution_count": 23,
     "metadata": {},
     "output_type": "execute_result"
    }
   ],
   "source": [
    "peakElement(arr2,len(arr2))"
   ]
  },
  {
   "cell_type": "code",
   "execution_count": 24,
   "metadata": {},
   "outputs": [
    {
     "name": "stdout",
     "output_type": "stream",
     "text": [
      "[8, 3, 2, 1, 0]\n",
      "Peak Element = 8 and Peak Index = 0 \n"
     ]
    },
    {
     "data": {
      "text/plain": [
       "(8, 0, 0)"
      ]
     },
     "execution_count": 24,
     "metadata": {},
     "output_type": "execute_result"
    }
   ],
   "source": [
    "peakElement(arr3,len(arr3))"
   ]
  },
  {
   "cell_type": "code",
   "execution_count": 25,
   "metadata": {},
   "outputs": [
    {
     "name": "stdout",
     "output_type": "stream",
     "text": [
      "[4, 7, 9, 10, 17]\n",
      "Peak Element = 17 and Peak Index = 4 \n"
     ]
    },
    {
     "data": {
      "text/plain": [
       "(17, 4, 0)"
      ]
     },
     "execution_count": 25,
     "metadata": {},
     "output_type": "execute_result"
    }
   ],
   "source": [
    "peakElement(arr4,len(arr4))"
   ]
  },
  {
   "cell_type": "code",
   "execution_count": 26,
   "metadata": {},
   "outputs": [
    {
     "name": "stdout",
     "output_type": "stream",
     "text": [
      "[20, 0, 1, 0]\n",
      "Peak Element = 1 and Peak Index = 2 \n"
     ]
    },
    {
     "data": {
      "text/plain": [
       "(1, 2, 0)"
      ]
     },
     "execution_count": 26,
     "metadata": {},
     "output_type": "execute_result"
    }
   ],
   "source": []
  }
 ],
 "metadata": {
  "kernelspec": {
   "display_name": "Python 3.10.2 64-bit",
   "language": "python",
   "name": "python3"
  },
  "language_info": {
   "codemirror_mode": {
    "name": "ipython",
    "version": 3
   },
   "file_extension": ".py",
   "mimetype": "text/x-python",
   "name": "python",
   "nbconvert_exporter": "python",
   "pygments_lexer": "ipython3",
   "version": "3.10.2"
  },
  "orig_nbformat": 4,
  "vscode": {
   "interpreter": {
    "hash": "aee8b7b246df8f9039afb4144a1f6fd8d2ca17a180786b69acc140d282b71a49"
   }
  }
 },
 "nbformat": 4,
 "nbformat_minor": 2
}

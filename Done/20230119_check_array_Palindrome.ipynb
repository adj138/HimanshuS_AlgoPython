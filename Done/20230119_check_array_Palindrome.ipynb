{
 "cells": [
  {
   "cell_type": "markdown",
   "metadata": {},
   "source": [
    "Check if given array is a Palindrome or not"
   ]
  },
  {
   "cell_type": "code",
   "execution_count": 5,
   "metadata": {},
   "outputs": [],
   "source": [
    "arr1 = [1, 2, 3, 4, 5, 4, 3, 2, 1]\n",
    "arr2 = [1, 2, 3, 4, 4, 3, 2, 1]"
   ]
  },
  {
   "cell_type": "code",
   "execution_count": 70,
   "metadata": {},
   "outputs": [],
   "source": [
    "def checkArrPalindrome(nums):\n",
    "\n",
    "    n = len(nums)\n",
    "    print(n)\n",
    "    print(nums)\n",
    "    flag = 0\n",
    "\n",
    "    for i in range(0,int((n/2)+0.5)):\n",
    "        print(\"nums i = \" + str(i) + \" nums[i] = \" + str(nums[i]) + \" nums[n-i-1] = \" + str(nums[n-i-1]))\n",
    "        if (nums[i] != nums[n-i-1]):\n",
    "            # print(\"Array is not a Palindrome\")\n",
    "            flag = 1\n",
    "        # else:\n",
    "        #     print(\"Array is a Palindrome\")\n",
    "        #     flag = 0\n",
    "\n",
    "    if (flag == 0):\n",
    "        return(\"Array is a Palindrome\")\n",
    "\n",
    "    else:\n",
    "        return(\"Array is NOT a Palindrome\")\n"
   ]
  },
  {
   "cell_type": "code",
   "execution_count": 63,
   "metadata": {},
   "outputs": [
    {
     "name": "stdout",
     "output_type": "stream",
     "text": [
      "9\n",
      "[1, 2, 3, 4, 5, 4, 3, 2, 1]\n",
      "nums i = 0 nums[i] = 1 nums[n-i-1] = 1\n",
      "nums i = 1 nums[i] = 2 nums[n-i-1] = 2\n",
      "nums i = 2 nums[i] = 3 nums[n-i-1] = 3\n",
      "nums i = 3 nums[i] = 4 nums[n-i-1] = 4\n",
      "nums i = 4 nums[i] = 5 nums[n-i-1] = 5\n"
     ]
    },
    {
     "data": {
      "text/plain": [
       "'0, Array is a Palindrome'"
      ]
     },
     "execution_count": 63,
     "metadata": {},
     "output_type": "execute_result"
    }
   ],
   "source": [
    "checkArrPalindrome(arr1)"
   ]
  },
  {
   "cell_type": "code",
   "execution_count": 68,
   "metadata": {},
   "outputs": [
    {
     "name": "stdout",
     "output_type": "stream",
     "text": [
      "8\n",
      "[1, 2, 3, 4, 4, 3, 2, 1]\n",
      "nums i = 0 nums[i] = 1 nums[n-i-1] = 1\n",
      "nums i = 1 nums[i] = 2 nums[n-i-1] = 2\n",
      "nums i = 2 nums[i] = 3 nums[n-i-1] = 3\n",
      "nums i = 3 nums[i] = 4 nums[n-i-1] = 4\n"
     ]
    },
    {
     "data": {
      "text/plain": [
       "'Array is a Palindrome'"
      ]
     },
     "execution_count": 68,
     "metadata": {},
     "output_type": "execute_result"
    }
   ],
   "source": [
    "checkArrPalindrome(arr2)"
   ]
  },
  {
   "cell_type": "code",
   "execution_count": 71,
   "metadata": {},
   "outputs": [
    {
     "name": "stdout",
     "output_type": "stream",
     "text": [
      "7\n",
      "[1, 2, 4, 4, 3, 2, 1]\n",
      "nums i = 0 nums[i] = 1 nums[n-i-1] = 1\n",
      "nums i = 1 nums[i] = 2 nums[n-i-1] = 2\n",
      "nums i = 2 nums[i] = 4 nums[n-i-1] = 3\n",
      "nums i = 3 nums[i] = 4 nums[n-i-1] = 4\n"
     ]
    },
    {
     "data": {
      "text/plain": [
       "'Array is NOT a Palindrome'"
      ]
     },
     "execution_count": 71,
     "metadata": {},
     "output_type": "execute_result"
    }
   ],
   "source": [
    "checkArrPalindrome([1, 2, 4, 4, 3, 2, 1])"
   ]
  }
 ],
 "metadata": {
  "kernelspec": {
   "display_name": "Python 3.10.2 64-bit",
   "language": "python",
   "name": "python3"
  },
  "language_info": {
   "codemirror_mode": {
    "name": "ipython",
    "version": 3
   },
   "file_extension": ".py",
   "mimetype": "text/x-python",
   "name": "python",
   "nbconvert_exporter": "python",
   "pygments_lexer": "ipython3",
   "version": "3.10.2"
  },
  "orig_nbformat": 4,
  "vscode": {
   "interpreter": {
    "hash": "aee8b7b246df8f9039afb4144a1f6fd8d2ca17a180786b69acc140d282b71a49"
   }
  }
 },
 "nbformat": 4,
 "nbformat_minor": 2
}

{
 "cells": [
  {
   "cell_type": "markdown",
   "metadata": {},
   "source": [
    "## 724. Find Pivot Index\n",
    "\n",
    "https://leetcode.com/problems/find-pivot-index/\n",
    "\n",
    "Given an array of integers nums, calculate the pivot index of this array.\n",
    "\n",
    "The pivot index is the index where the sum of all the numbers strictly to the left of the index is equal to the sum of all the numbers strictly to the index's right.\n",
    "\n",
    "If the index is on the left edge of the array, then the left sum is 0 because there are no elements to the left. This also applies to the right edge of the array.\n",
    "\n",
    "Return the leftmost pivot index. If no such index exists, return -1.\n",
    "\n",
    " \n",
    "\n",
    "### Example 1:\n",
    "\n",
    "Input: nums = [1,7,3,6,5,6] <br>\n",
    "Output: 3 <br>\n",
    "Explanation: <br>\n",
    "The pivot index is 3. <br>\n",
    "Left sum = nums[0] + nums[1] + nums[2] = 1 + 7 + 3 = 11 <br>\n",
    "Right sum = nums[4] + nums[5] = 5 + 6 = 11 <br>\n",
    "\n",
    "### Example 2:\n",
    "\n",
    "Input: nums = [1,2,3] <br>\n",
    "Output: -1 <br>\n",
    "Explanation: <br>\n",
    "There is no index that satisfies the conditions in the problem statement. <br>\n",
    "\n",
    "### Example 3:\n",
    "\n",
    "Input: nums = [2,1,-1] <br>\n",
    "Output: 0 <br>\n",
    "Explanation: <br>\n",
    "The pivot index is 0. <br>\n",
    "Left sum = 0 (no elements to the left of index 0) <br>\n",
    "Right sum = nums[1] + nums[2] = 1 + -1 = 0 <br>\n",
    " \n",
    "\n",
    "### Constraints:\n",
    "\n",
    "* 1 <= nums.length <= 104\n",
    "* -1000 <= nums[i] <= 1000\n",
    " \n",
    "\n",
    "Note: This question is the same as 1991: https://leetcode.com/problems/find-the-middle-index-in-array/"
   ]
  },
  {
   "cell_type": "code",
   "execution_count": 48,
   "metadata": {},
   "outputs": [],
   "source": [
    "def pivotIndex(nums):\n",
    "\n",
    "    n = len(nums)\n",
    "    suml = 0\n",
    "    sumr = 0\n",
    "    increasingSum = [None] * n\n",
    "    decreasingSum = [None] * n\n",
    "\n",
    "    print(nums)\n",
    "    print(increasingSum)\n",
    "    print(decreasingSum)\n",
    "\n",
    "    # arr = [0]*10\n",
    "    # print(arr)\n",
    "    \n",
    "    for i in range(0,n):\n",
    "        # print(i)\n",
    "        suml = nums[i] + suml\n",
    "        increasingSum[i] = suml\n",
    "        sumr = nums[n-i-1] + sumr\n",
    "        decreasingSum[n-i-1] = sumr\n",
    "\n",
    "    print(increasingSum)\n",
    "    print(decreasingSum)\n",
    "\n",
    "    flag = 0\n",
    "    for i in range(0,n):\n",
    "        if (increasingSum[i] == decreasingSum[i]):\n",
    "            flag = 1\n",
    "            return(i)\n",
    "            break\n",
    "    \n",
    "    if (flag == 0):\n",
    "        return(-1)"
   ]
  },
  {
   "cell_type": "code",
   "execution_count": 49,
   "metadata": {},
   "outputs": [
    {
     "name": "stdout",
     "output_type": "stream",
     "text": [
      "[1, 7, 3, 6, 5, 6]\n",
      "[None, None, None, None, None, None]\n",
      "[None, None, None, None, None, None]\n",
      "[1, 8, 11, 17, 22, 28]\n",
      "[28, 27, 20, 17, 11, 6]\n"
     ]
    },
    {
     "data": {
      "text/plain": [
       "3"
      ]
     },
     "execution_count": 49,
     "metadata": {},
     "output_type": "execute_result"
    }
   ],
   "source": [
    "arr1 = [1,7,3,6,5,6]\n",
    "arr2 = [1,2,3]\n",
    "arr3 = [2,1,-1]\n",
    "\n",
    "pivotIndex(arr1)"
   ]
  },
  {
   "cell_type": "code",
   "execution_count": 50,
   "metadata": {},
   "outputs": [
    {
     "name": "stdout",
     "output_type": "stream",
     "text": [
      "[1, 2, 3]\n",
      "[None, None, None]\n",
      "[None, None, None]\n",
      "[1, 3, 6]\n",
      "[6, 5, 3]\n"
     ]
    },
    {
     "data": {
      "text/plain": [
       "-1"
      ]
     },
     "execution_count": 50,
     "metadata": {},
     "output_type": "execute_result"
    }
   ],
   "source": [
    "pivotIndex(arr2)"
   ]
  },
  {
   "cell_type": "code",
   "execution_count": 52,
   "metadata": {},
   "outputs": [
    {
     "name": "stdout",
     "output_type": "stream",
     "text": [
      "[2, 1, -1]\n",
      "[None, None, None]\n",
      "[None, None, None]\n",
      "[2, 3, 2]\n",
      "[2, 0, -1]\n"
     ]
    },
    {
     "data": {
      "text/plain": [
       "0"
      ]
     },
     "execution_count": 52,
     "metadata": {},
     "output_type": "execute_result"
    }
   ],
   "source": [
    "pivotIndex(arr3)"
   ]
  }
 ],
 "metadata": {
  "kernelspec": {
   "display_name": "Python 3.10.2 64-bit",
   "language": "python",
   "name": "python3"
  },
  "language_info": {
   "codemirror_mode": {
    "name": "ipython",
    "version": 3
   },
   "file_extension": ".py",
   "mimetype": "text/x-python",
   "name": "python",
   "nbconvert_exporter": "python",
   "pygments_lexer": "ipython3",
   "version": "3.10.2"
  },
  "orig_nbformat": 4,
  "vscode": {
   "interpreter": {
    "hash": "aee8b7b246df8f9039afb4144a1f6fd8d2ca17a180786b69acc140d282b71a49"
   }
  }
 },
 "nbformat": 4,
 "nbformat_minor": 2
}

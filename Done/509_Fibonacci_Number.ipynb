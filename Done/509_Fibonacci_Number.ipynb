{
 "cells": [
  {
   "cell_type": "markdown",
   "metadata": {},
   "source": [
    "## 509. Fibonacci Number\n",
    "\n",
    "The Fibonacci numbers, commonly denoted F(n) form a sequence, called the Fibonacci sequence, such that each number is the sum of the two preceding ones, starting from 0 and 1. That is,\n",
    "\n",
    "F(0) = 0, F(1) = 1\n",
    "F(n) = F(n - 1) + F(n - 2), for n > 1.\n",
    "\n",
    "Given n, calculate F(n).\n",
    "\n",
    " \n",
    "\n",
    "\n",
    "### Example 1:\n",
    "\n",
    "Input: n = 2\n",
    "\n",
    "Output: 1\n",
    "\n",
    "Explanation: F(2) = F(1) + F(0) = 1 + 0 = 1.\n",
    "\n",
    "### Example 2:\n",
    "\n",
    "Input: n = 3\n",
    "\n",
    "Output: 2\n",
    "\n",
    "Explanation: F(3) = F(2) + F(1) = 1 + 1 = 2.\n",
    "\n",
    "### Example 3:\n",
    "\n",
    "Input: n = 4\n",
    "\n",
    "Output: 3\n",
    "\n",
    "Explanation: F(4) = F(3) + F(2) = 2 + 1 = 3.\n",
    " \n",
    "\n",
    "### Constraints:\n",
    "\n",
    "0 <= n <= 30"
   ]
  },
  {
   "cell_type": "code",
   "execution_count": 5,
   "metadata": {},
   "outputs": [],
   "source": [
    "n = input(\"Enter n to calculate F(n) Fibonacci  Numbers: \")"
   ]
  },
  {
   "cell_type": "code",
   "execution_count": 12,
   "metadata": {},
   "outputs": [
    {
     "name": "stdout",
     "output_type": "stream",
     "text": [
      "Fn = 1 , next F(n-1) 1 & next F(n-2) 1\n",
      "Fn = 2 , next F(n-1) 2 & next F(n-2) 1\n",
      "Fn = 3 , next F(n-1) 3 & next F(n-2) 2\n",
      "Fn = 5 , next F(n-1) 5 & next F(n-2) 3\n",
      "Fn = 8 , next F(n-1) 8 & next F(n-2) 5\n",
      "Fn = 13 , next F(n-1) 13 & next F(n-2) 8\n",
      "Fn = 21 , next F(n-1) 21 & next F(n-2) 13\n",
      "Fn = 34 , next F(n-1) 34 & next F(n-2) 21\n"
     ]
    }
   ],
   "source": [
    "Fn0 = 0\n",
    "Fn1 = 1\n",
    "\n",
    "for i in range(2,int(n)):\n",
    "    Fn = Fn0 + Fn1\n",
    "    Fn0 = Fn1\n",
    "    Fn1 = Fn\n",
    "\n",
    "    print(\"Fn =\", str(Fn), \", next F(n-1)\", str(Fn1),\"& next F(n-2)\", str(Fn0), sep=\" \")"
   ]
  }
 ],
 "metadata": {
  "kernelspec": {
   "display_name": "Python 3.10.2 64-bit",
   "language": "python",
   "name": "python3"
  },
  "language_info": {
   "codemirror_mode": {
    "name": "ipython",
    "version": 3
   },
   "file_extension": ".py",
   "mimetype": "text/x-python",
   "name": "python",
   "nbconvert_exporter": "python",
   "pygments_lexer": "ipython3",
   "version": "3.10.2"
  },
  "orig_nbformat": 4,
  "vscode": {
   "interpreter": {
    "hash": "aee8b7b246df8f9039afb4144a1f6fd8d2ca17a180786b69acc140d282b71a49"
   }
  }
 },
 "nbformat": 4,
 "nbformat_minor": 2
}

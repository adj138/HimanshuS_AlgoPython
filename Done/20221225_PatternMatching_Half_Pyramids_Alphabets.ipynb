{
 "cells": [
  {
   "cell_type": "markdown",
   "metadata": {},
   "source": [
    "## Half-Pyramid of Alphabets >> Pattern Matching\n",
    "\n",
    "Input: any integer\n",
    "\n",
    "https://www.programiz.com/c-programming/examples/pyramid-pattern\n"
   ]
  },
  {
   "cell_type": "code",
   "execution_count": 10,
   "metadata": {},
   "outputs": [],
   "source": [
    "# input = 10"
   ]
  },
  {
   "cell_type": "code",
   "execution_count": 1,
   "metadata": {},
   "outputs": [
    {
     "name": "stdout",
     "output_type": "stream",
     "text": [
      "Pyramid rows are: 15\n"
     ]
    }
   ],
   "source": [
    "uinput = input(\"Enter pyramid level/rows:\")\n",
    "print(\"Pyramid rows are: \" + uinput)\n",
    "input1 = int(uinput)"
   ]
  },
  {
   "cell_type": "code",
   "execution_count": 8,
   "metadata": {},
   "outputs": [],
   "source": [
    "# print(\"*\"*10)"
   ]
  },
  {
   "cell_type": "code",
   "execution_count": 7,
   "metadata": {},
   "outputs": [
    {
     "name": "stdout",
     "output_type": "stream",
     "text": [
      "A "
     ]
    }
   ],
   "source": [
    "a=65\n",
    "alphabet = chr(a)\n",
    "print(alphabet, end=\" \")"
   ]
  },
  {
   "cell_type": "code",
   "execution_count": 9,
   "metadata": {},
   "outputs": [
    {
     "name": "stdout",
     "output_type": "stream",
     "text": [
      "B\n"
     ]
    }
   ],
   "source": [
    "print(chr(66))"
   ]
  },
  {
   "cell_type": "code",
   "execution_count": 7,
   "metadata": {},
   "outputs": [
    {
     "name": "stdout",
     "output_type": "stream",
     "text": [
      "[0]\n",
      "[0, 1]\n",
      "[0, 1, 2]\n",
      "[0, 1, 2, 3]\n",
      "[0, 1, 2, 3, 4]\n"
     ]
    }
   ],
   "source": [
    "for i in range(1,input1+1):\n",
    "    # print(str(i)+ \" \" + \"*\"*(i+1))\n",
    "    arr1=[]\n",
    "    for j in range(i):\n",
    "        arr1.append(j)\n",
    "    print(arr1)"
   ]
  },
  {
   "cell_type": "code",
   "execution_count": 19,
   "metadata": {},
   "outputs": [
    {
     "name": "stdout",
     "output_type": "stream",
     "text": [
      "input = 15\n",
      "A \n",
      "BB \n",
      "CCC \n",
      "DDDD \n",
      "EEEEE \n",
      "FFFFFF \n",
      "GGGGGGG \n",
      "HHHHHHHH \n",
      "IIIIIIIII \n",
      "JJJJJJJJJJ \n",
      "KKKKKKKKKKK \n",
      "LLLLLLLLLLLL \n",
      "MMMMMMMMMMMMM \n",
      "NNNNNNNNNNNNNN \n",
      "OOOOOOOOOOOOOOO \n"
     ]
    }
   ],
   "source": [
    "print(\"input = \" + uinput)\n",
    "for i in range(input1):\n",
    "    # print(str(i)+ \" \" + \"*\"*(i+1))\n",
    "    # for j in range(i):\n",
    "    print(chr(65+i)*(i+1),end=\" \") # end removes /n which print adds by default\n",
    "    print(\"\")"
   ]
  }
 ],
 "metadata": {
  "kernelspec": {
   "display_name": "Python 3 (ipykernel)",
   "language": "python",
   "name": "python3"
  },
  "language_info": {
   "codemirror_mode": {
    "name": "ipython",
    "version": 3
   },
   "file_extension": ".py",
   "mimetype": "text/x-python",
   "name": "python",
   "nbconvert_exporter": "python",
   "pygments_lexer": "ipython3",
   "version": "3.10.2"
  },
  "toc": {
   "base_numbering": 1,
   "nav_menu": {},
   "number_sections": true,
   "sideBar": true,
   "skip_h1_title": false,
   "title_cell": "Table of Contents",
   "title_sidebar": "Contents",
   "toc_cell": false,
   "toc_position": {},
   "toc_section_display": true,
   "toc_window_display": false
  },
  "vscode": {
   "interpreter": {
    "hash": "aee8b7b246df8f9039afb4144a1f6fd8d2ca17a180786b69acc140d282b71a49"
   }
  }
 },
 "nbformat": 4,
 "nbformat_minor": 2
}

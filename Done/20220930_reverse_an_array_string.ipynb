{
 "cells": [
  {
   "cell_type": "markdown",
   "metadata": {},
   "source": [
    "https://leetcode.com/problems/reverse-string/"
   ]
  },
  {
   "cell_type": "markdown",
   "metadata": {},
   "source": [
    "# Reverse Array"
   ]
  },
  {
   "cell_type": "code",
   "execution_count": 1,
   "metadata": {},
   "outputs": [],
   "source": [
    "c = [\"h\",\"e\",\"l\",\"l\",\"o\"]"
   ]
  },
  {
   "cell_type": "code",
   "execution_count": 3,
   "metadata": {},
   "outputs": [
    {
     "name": "stdout",
     "output_type": "stream",
     "text": [
      "['h', 'e', 'l', 'l', 'o']\n"
     ]
    }
   ],
   "source": [
    "print(c)"
   ]
  },
  {
   "cell_type": "code",
   "execution_count": 4,
   "metadata": {},
   "outputs": [
    {
     "data": {
      "text/plain": [
       "'h'"
      ]
     },
     "execution_count": 4,
     "metadata": {},
     "output_type": "execute_result"
    }
   ],
   "source": [
    "c[0]"
   ]
  },
  {
   "cell_type": "markdown",
   "metadata": {},
   "source": [
    "Write a function that reverses a string. The input string is given as an array of characters s.\n",
    "\n",
    "You must do this by modifying the input array in-place with O(1) extra memory.\n",
    "\n",
    " \n",
    "\n",
    "### Example 1:\n",
    "\n",
    "```\n",
    "Input: s = [\"h\",\"e\",\"l\",\"l\",\"o\"]\n",
    "\n",
    "Output: [\"o\",\"l\",\"l\",\"e\",\"h\"]\n",
    "```\n",
    "\n",
    "### Example 2:\n",
    "```\n",
    "Input: s = [\"H\",\"a\",\"n\",\"n\",\"a\",\"h\"]\n",
    "\n",
    "Output: [\"h\",\"a\",\"n\",\"n\",\"a\",\"H\"]\n",
    "```\n",
    "\n",
    "### Constraints:\n",
    "\n",
    "1 <= s.length <= 105\n",
    "s[i] is a printable ascii character.\n",
    "\n",
    "\n",
    "Method 1: Brute Force\n",
    "\n",
    "Method 2: Space Complexity, using Swap"
   ]
  },
  {
   "cell_type": "code",
   "execution_count": 139,
   "metadata": {},
   "outputs": [
    {
     "name": "stdout",
     "output_type": "stream",
     "text": [
      "o\n",
      "l\n",
      "l\n",
      "e\n",
      "h\n"
     ]
    }
   ],
   "source": [
    "for i in c:\n",
    "    print(i)    "
   ]
  },
  {
   "cell_type": "code",
   "execution_count": 25,
   "metadata": {},
   "outputs": [
    {
     "data": {
      "text/plain": [
       "5"
      ]
     },
     "execution_count": 25,
     "metadata": {},
     "output_type": "execute_result"
    }
   ],
   "source": [
    "len(c)"
   ]
  },
  {
   "cell_type": "code",
   "execution_count": 135,
   "metadata": {},
   "outputs": [
    {
     "name": "stdout",
     "output_type": "stream",
     "text": [
      "0\n"
     ]
    }
   ],
   "source": [
    "print(c.index(\"h\"))"
   ]
  },
  {
   "cell_type": "code",
   "execution_count": 33,
   "metadata": {},
   "outputs": [
    {
     "name": "stdout",
     "output_type": "stream",
     "text": [
      "0\n",
      "1\n",
      "2\n",
      "2\n",
      "4\n"
     ]
    }
   ],
   "source": [
    "for i in c:\n",
    "    print(c.index(i))"
   ]
  },
  {
   "cell_type": "code",
   "execution_count": 151,
   "metadata": {},
   "outputs": [
    {
     "name": "stdout",
     "output_type": "stream",
     "text": [
      "[0, 1, 2, 3, 4]\n",
      "['h', 'e', 'l', 'l', 'o']\n",
      "['h', 'e', 'l', 'l', 'o']\n"
     ]
    }
   ],
   "source": [
    "s = c[:] # Copying c to s, doing \"s = c\" will set c to s as well, so need to copy items of list into another\n",
    "# len(c) = 5\n",
    "# hello\n",
    "# olleh\n",
    "\n",
    "print([0,1,2,3,4])\n",
    "print(c)\n",
    "print(s)"
   ]
  },
  {
   "cell_type": "code",
   "execution_count": 152,
   "metadata": {},
   "outputs": [
    {
     "name": "stdout",
     "output_type": "stream",
     "text": [
      "['h', 'e', 'l', 'l', 'o']\n",
      "['o', 'l', 'l', 'e', 'h']\n"
     ]
    }
   ],
   "source": [
    "for i in range(int(len(s)/2)):\n",
    "    # for i in range(2)\n",
    "    # print(i) --> 0,1,2,3,4\n",
    "    temp_var = s[i]\n",
    "    s[i] = s[len(s)-i-1]\n",
    "    s[len(s)-i-1] = temp_var\n",
    "    \n",
    "print(c)\n",
    "print(s)"
   ]
  },
  {
   "cell_type": "code",
   "execution_count": 133,
   "metadata": {},
   "outputs": [
    {
     "name": "stdout",
     "output_type": "stream",
     "text": [
      "['o', 'l', 'l', 'e', 'h']\n"
     ]
    }
   ],
   "source": [
    "print(c)"
   ]
  },
  {
   "cell_type": "code",
   "execution_count": 154,
   "metadata": {},
   "outputs": [
    {
     "name": "stdout",
     "output_type": "stream",
     "text": [
      "o\n",
      "h\n",
      "l\n"
     ]
    }
   ],
   "source": [
    "print(s[0])\n",
    "\n",
    "print(s[len(s)-1])\n",
    "\n",
    "print(s[int(len(s)/2)-1])"
   ]
  },
  {
   "cell_type": "markdown",
   "metadata": {},
   "source": [
    "# Reverse String"
   ]
  },
  {
   "cell_type": "code",
   "execution_count": 155,
   "metadata": {},
   "outputs": [
    {
     "name": "stdout",
     "output_type": "stream",
     "text": [
      "this is a string 1\n"
     ]
    }
   ],
   "source": [
    "strn = \"this is a string 1\"\n",
    "\n",
    "print(strn)"
   ]
  },
  {
   "cell_type": "code",
   "execution_count": 178,
   "metadata": {},
   "outputs": [
    {
     "name": "stdout",
     "output_type": "stream",
     "text": [
      "this is a\n",
      " string 1\n",
      "tss rg\n",
      "1git  ish\n"
     ]
    }
   ],
   "source": [
    "print(strn[:9]) #starts from left/front\n",
    "print(strn[9:]) #counts from right/end/reverse\n",
    "print(strn[::3])  #skips every 3 char\n",
    "print(strn[::-2]) #skips every 2 char in the reverse order"
   ]
  },
  {
   "cell_type": "markdown",
   "metadata": {},
   "source": [
    "# Solution: reverse STRING"
   ]
  },
  {
   "cell_type": "code",
   "execution_count": 219,
   "metadata": {},
   "outputs": [
    {
     "name": "stdout",
     "output_type": "stream",
     "text": [
      "This is my solution.\n",
      "\n",
      "\n",
      "\n",
      "This is my solution.\n",
      "\n",
      "\n",
      " solution.\n",
      "This is my\n"
     ]
    }
   ],
   "source": [
    "strn1 = \"This is my solution.\" # len(strn1) = 20\n",
    "print(strn1)\n",
    "\n",
    "# for i in strn1: #iteratator is char\n",
    "#     print(i)\n",
    "\n",
    "# for i in range(len(strn1)):\n",
    "#     print(strn1[i])\n",
    "\n",
    "# for i in range(len(strn1)): # i from 0 to 19\n",
    "    # 'str' object does not support item assignment\n",
    "\n",
    "print('\\n')\n",
    "print(strn1[len(strn1):])\n",
    "print(strn1[:len(strn1)])\n",
    "\n",
    "print('\\n')\n",
    "print(strn1[int(len(strn1)/2):])\n",
    "print(strn1[:int(len(strn1)/2)])\n"
   ]
  },
  {
   "cell_type": "markdown",
   "metadata": {},
   "source": [
    "# Solution (copied): reverse STRING"
   ]
  },
  {
   "cell_type": "code",
   "execution_count": 174,
   "metadata": {},
   "outputs": [
    {
     "name": "stdout",
     "output_type": "stream",
     "text": [
      "olleh\n",
      "tiknA si eman yM\n",
      "ASD golA ts1 ym si sihT\n"
     ]
    }
   ],
   "source": [
    "str1 = \"hello\"\n",
    "str2 = \"My name is Ankit\"\n",
    "str3 = \"This is my 1st Alog DSA\"\n",
    "\n",
    "class Solution(object):\n",
    "    def reverseString(self, s):\n",
    "        l = len(s)\n",
    "        if l < 2:\n",
    "            return s\n",
    "        return self.reverseString(s[int(l/2):]) + self.reverseString(s[:int(l/2)])\n",
    "\n",
    "\n",
    "class SolutionClassic(object):\n",
    "    def reverseString(self, s):\n",
    "        r = list(s)\n",
    "        i, j  = 0, len(r) - 1\n",
    "        while i < j:\n",
    "            r[i], r[j] = r[j], r[i]\n",
    "            i += 1b\n",
    "            j -= 1\n",
    "\n",
    "        return \"\".join(r)\n",
    "\n",
    "class SolutionPythonic(object):\n",
    "    def reverseString(self, s):\n",
    "        return s[::-1]\n",
    "\n",
    "print(Solution().reverseString(str1))\n",
    "print(SolutionClassic().reverseString(str2))\n",
    "print(SolutionPythonic().reverseString(str3))"
   ]
  }
 ],
 "metadata": {
  "kernelspec": {
   "display_name": "Python 3.10.2 64-bit",
   "language": "python",
   "name": "python3"
  },
  "language_info": {
   "codemirror_mode": {
    "name": "ipython",
    "version": 3
   },
   "file_extension": ".py",
   "mimetype": "text/x-python",
   "name": "python",
   "nbconvert_exporter": "python",
   "pygments_lexer": "ipython3",
   "version": "3.10.2"
  },
  "toc": {
   "base_numbering": 1,
   "nav_menu": {},
   "number_sections": true,
   "sideBar": true,
   "skip_h1_title": false,
   "title_cell": "Table of Contents",
   "title_sidebar": "Contents",
   "toc_cell": false,
   "toc_position": {},
   "toc_section_display": true,
   "toc_window_display": false
  },
  "vscode": {
   "interpreter": {
    "hash": "aee8b7b246df8f9039afb4144a1f6fd8d2ca17a180786b69acc140d282b71a49"
   }
  }
 },
 "nbformat": 4,
 "nbformat_minor": 4
}

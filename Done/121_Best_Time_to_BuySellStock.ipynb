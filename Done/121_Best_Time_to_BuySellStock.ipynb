{
 "cells": [
  {
   "cell_type": "markdown",
   "metadata": {},
   "source": [
    "# 121. Best Time to Buy and Sell Stock\n",
    "\n",
    "121_Best_Time_to_BuySellStock\n",
    "\n",
    "You are given an array prices where prices[i] is the price of a given stock on the ith day.\n",
    "\n",
    "You want to maximize your profit by choosing a single day to buy one stock and choosing a different day in the future to sell that stock.\n",
    "\n",
    "Return the maximum profit you can achieve from this transaction. If you cannot achieve any profit, return 0.\n",
    "\n",
    " \n",
    "\n",
    "### Example 1:\n",
    "\n",
    "Input: prices = [7,1,5,3,6,4]\n",
    "\n",
    "Output: 5\n",
    "\n",
    "Explanation: Buy on day 2 (price = 1) and sell on day 5 (price = 6), profit = 6-1 = 5.\n",
    "\n",
    "Note that buying on day 2 and selling on day 1 is not allowed because you must buy before you sell.\n",
    "\n",
    "\n",
    "### Example 2:\n",
    "\n",
    "Input: prices = [7,6,4,3,1]\n",
    "\n",
    "Output: 0\n",
    "\n",
    "Explanation: In this case, no transactions are done and the max profit = 0.\n",
    " \n",
    "\n",
    "### Constraints:\n",
    "\n",
    "1 <= prices.length <= 105\n",
    "\n",
    "0 <= prices[i] <= 104"
   ]
  },
  {
   "cell_type": "code",
   "execution_count": 22,
   "metadata": {},
   "outputs": [
    {
     "name": "stdout",
     "output_type": "stream",
     "text": [
      "First day purchase, starting point: 7\n",
      "New buy price: 1\n",
      "New buy date: 2\n",
      "New sell price: 5\n",
      "New sell date: 3\n",
      "New sell price: 6\n",
      "New sell date: 5\n",
      "Max profit: 5\n"
     ]
    }
   ],
   "source": [
    "input1 = [7,1,5,3,6,4]\n",
    "\n",
    "buy,buy_date = 0,0\n",
    "sell,sell_date = 0,0\n",
    "\n",
    "for i in input1:\n",
    "    if (input1.index(i) == 0):\n",
    "        buy = i\n",
    "        print(\"First day purchase, starting point: \" + str(i))\n",
    "    \n",
    "    if (buy > i):\n",
    "        buy = i\n",
    "        buy_date = input1.index(i)\n",
    "        print(\"New buy price: \" + str(i))\n",
    "        print(\"New buy date: \" + str(buy_date+1))\n",
    "\n",
    "    if (sell < i and buy_date < input1.index(i)):\n",
    "        sell = i\n",
    "        sell_date = input1.index(i)\n",
    "        print(\"New sell price: \" + str(i))\n",
    "        print(\"New sell date: \" + str(sell_date+1))\n",
    "\n",
    "max_profit = sell-buy\n",
    "\n",
    "print(\"Max profit: \" + str(max_profit))"
   ]
  },
  {
   "cell_type": "code",
   "execution_count": 81,
   "metadata": {},
   "outputs": [],
   "source": [
    "def max_profit(input1):\n",
    "    buy,buy_date = 0,0\n",
    "    sell,sell_date = 0,0\n",
    "\n",
    "    for i in input1: # for each loop considers \"8\" index to be 1 and not 6 [7,8,9,3,2,1,8,3,4,6,8]\n",
    "        print(\"i = \" + str(i) + \" index = \" + str(input1.index(i)))\n",
    "        if (input1.index(i) == 0):\n",
    "            buy = i\n",
    "            buy_date = 0\n",
    "            print(\"First day purchase, starting price: \" + str(i))\n",
    "        \n",
    "        if (buy > i and input1.index(i) < len(input1)-1):\n",
    "            buy = i\n",
    "            buy_date = input1.index(i)\n",
    "            sell = 0\n",
    "            sell_date = 0\n",
    "            print(\"New buy price: \" + str(i) + \" and New buy date index: \" + str(buy_date))\n",
    "\n",
    "        if ((i > buy and input1.index(i) > buy_date) and i > sell):\n",
    "            sell = i\n",
    "            sell_date = input1.index(i)\n",
    "            print(\"New sell price: \" + str(i) + \" and New sell date index: \" + str(sell_date))\n",
    "\n",
    "    if(sell-buy >= 0):\n",
    "        return(sell-buy)\n",
    "    else:\n",
    "        return(\"no profit\")"
   ]
  },
  {
   "cell_type": "code",
   "execution_count": 85,
   "metadata": {},
   "outputs": [
    {
     "name": "stdout",
     "output_type": "stream",
     "text": [
      "i = 7 index = 0\n",
      "First day purchase, starting price: 7\n",
      "i = 3 index = 1\n",
      "New buy price: 3 and New buy date index: 1\n",
      "i = 9 index = 2\n",
      "New sell price: 9 and New sell date index: 2\n",
      "i = 3 index = 1\n",
      "i = 2 index = 4\n",
      "New buy price: 2 and New buy date index: 4\n",
      "i = 1 index = 5\n",
      "New buy price: 1 and New buy date index: 5\n",
      "i = 8 index = 6\n",
      "New sell price: 8 and New sell date index: 6\n",
      "i = 3 index = 1\n",
      "i = 4 index = 8\n",
      "i = 6 index = 9\n",
      "i = 8 index = 6\n"
     ]
    },
    {
     "data": {
      "text/plain": [
       "7"
      ]
     },
     "execution_count": 85,
     "metadata": {},
     "output_type": "execute_result"
    }
   ],
   "source": [
    "max_profit([7,3,9,3,2,1,8,3,4,6,8])"
   ]
  },
  {
   "cell_type": "code",
   "execution_count": 24,
   "metadata": {},
   "outputs": [
    {
     "name": "stdout",
     "output_type": "stream",
     "text": [
      "First day purchase, starting point: 7\n",
      "New buy price: 1\n",
      "New buy date: 2\n",
      "New sell price: 5\n",
      "New sell date: 3\n",
      "New sell price: 6\n",
      "New sell date: 5\n"
     ]
    },
    {
     "data": {
      "text/plain": [
       "5"
      ]
     },
     "execution_count": 24,
     "metadata": {},
     "output_type": "execute_result"
    }
   ],
   "source": [
    "max_profit([7,1,5,3,6,4])"
   ]
  },
  {
   "cell_type": "code",
   "execution_count": 29,
   "metadata": {},
   "outputs": [
    {
     "name": "stdout",
     "output_type": "stream",
     "text": [
      "First day purchase, starting point: 7\n",
      "New buy price: 6\n",
      "New buy date: 2\n",
      "New buy price: 4\n",
      "New buy date: 3\n",
      "New buy price: 3\n",
      "New buy date: 4\n",
      "New buy price: 1\n",
      "New buy date: 5\n"
     ]
    },
    {
     "data": {
      "text/plain": [
       "'no profit'"
      ]
     },
     "execution_count": 29,
     "metadata": {},
     "output_type": "execute_result"
    }
   ],
   "source": [
    "max_profit([7,6,4,3,1])"
   ]
  },
  {
   "cell_type": "code",
   "execution_count": 34,
   "metadata": {},
   "outputs": [
    {
     "name": "stdout",
     "output_type": "stream",
     "text": [
      "First day purchase, starting point: 3\n",
      "New sell price: 7\n",
      "New sell date: 2\n",
      "First day purchase, starting point: 3\n",
      "New sell price: 9\n",
      "New sell date: 4\n"
     ]
    },
    {
     "data": {
      "text/plain": [
       "6"
      ]
     },
     "execution_count": 34,
     "metadata": {},
     "output_type": "execute_result"
    }
   ],
   "source": [
    "max_profit([3,7,3,9,4,6,8,1])"
   ]
  },
  {
   "cell_type": "code",
   "execution_count": 46,
   "metadata": {},
   "outputs": [
    {
     "name": "stdout",
     "output_type": "stream",
     "text": [
      "First day purchase, starting point: 7\n",
      "New sell price: 8\n",
      "New sell date: 2\n",
      "New sell price: 9\n",
      "New sell date: 3\n",
      "New buy price: 3\n",
      "New buy date: 4\n",
      "New buy price: 2\n",
      "New buy date: 5\n",
      "New buy price: 1\n",
      "New buy date: 6\n",
      "New sell price: 6\n",
      "New sell date: 9\n"
     ]
    },
    {
     "data": {
      "text/plain": [
       "5"
      ]
     },
     "execution_count": 46,
     "metadata": {},
     "output_type": "execute_result"
    }
   ],
   "source": []
  },
  {
   "cell_type": "code",
   "execution_count": 97,
   "metadata": {},
   "outputs": [],
   "source": [
    "def max_profitX(input1):\n",
    "    buy,buy_date = 0,0\n",
    "    sell,sell_date = 0,0\n",
    "\n",
    "    for i in range(len(input1)): \n",
    "        print(\"i = \" + str(i) + \" nums(i) = \" + str(input1[i]))\n",
    "        if (i == 0):\n",
    "            buy = input1[i]\n",
    "            buy_date = 0\n",
    "            print(\"First day purchase, starting price: \" + str(input1[i]))\n",
    "        \n",
    "        if (buy > input1[i] and i < len(input1)-1):\n",
    "            buy = input1[i]\n",
    "            buy_date = i\n",
    "            sell = 0\n",
    "            sell_date = 0\n",
    "            print(\"New buy price: \" + str(input1[i]) + \" and New buy date index: \" + str(buy_date))\n",
    "\n",
    "        if ((input1[i] > buy and i > buy_date) and input1[i] >= sell):\n",
    "            sell = input1[i]\n",
    "            sell_date = i\n",
    "            print(\"New sell price: \" + str(input1[i]) + \" and New sell date index: \" + str(sell_date))\n",
    "\n",
    "    if(sell-buy >= 0):\n",
    "        return(sell-buy)\n",
    "    else:\n",
    "        return(\"no profit\")"
   ]
  },
  {
   "cell_type": "code",
   "execution_count": 98,
   "metadata": {},
   "outputs": [
    {
     "name": "stdout",
     "output_type": "stream",
     "text": [
      "i = 0 nums(i) = 7\n",
      "First day purchase, starting price: 7\n",
      "i = 1 nums(i) = 8\n",
      "New sell price: 8 and New sell date index: 1\n",
      "i = 2 nums(i) = 9\n",
      "New sell price: 9 and New sell date index: 2\n",
      "i = 3 nums(i) = 3\n",
      "New buy price: 3 and New buy date index: 3\n",
      "i = 4 nums(i) = 2\n",
      "New buy price: 2 and New buy date index: 4\n",
      "i = 5 nums(i) = 1\n",
      "New buy price: 1 and New buy date index: 5\n",
      "i = 6 nums(i) = 8\n",
      "New sell price: 8 and New sell date index: 6\n",
      "i = 7 nums(i) = 3\n",
      "i = 8 nums(i) = 4\n",
      "i = 9 nums(i) = 6\n",
      "i = 10 nums(i) = 8\n",
      "New sell price: 8 and New sell date index: 10\n"
     ]
    },
    {
     "data": {
      "text/plain": [
       "7"
      ]
     },
     "execution_count": 98,
     "metadata": {},
     "output_type": "execute_result"
    }
   ],
   "source": [
    "max_profitX([7,8,9,3,2,1,8,3,4,6,8])"
   ]
  }
 ],
 "metadata": {
  "kernelspec": {
   "display_name": "Python 3.10.2 64-bit",
   "language": "python",
   "name": "python3"
  },
  "language_info": {
   "codemirror_mode": {
    "name": "ipython",
    "version": 3
   },
   "file_extension": ".py",
   "mimetype": "text/x-python",
   "name": "python",
   "nbconvert_exporter": "python",
   "pygments_lexer": "ipython3",
   "version": "3.10.2"
  },
  "orig_nbformat": 4,
  "vscode": {
   "interpreter": {
    "hash": "aee8b7b246df8f9039afb4144a1f6fd8d2ca17a180786b69acc140d282b71a49"
   }
  }
 },
 "nbformat": 4,
 "nbformat_minor": 2
}

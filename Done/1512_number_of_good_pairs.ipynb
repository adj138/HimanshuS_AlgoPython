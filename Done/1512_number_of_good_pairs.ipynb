{
 "cells": [
  {
   "cell_type": "markdown",
   "metadata": {},
   "source": [
    "\"Number of Good Pairs\n",
    "\"\thttps://leetcode.com/problems/number-of-good-pairs/"
   ]
  },
  {
   "cell_type": "markdown",
   "metadata": {},
   "source": [
    "1512. Number of Good Pairs\n",
    "\n",
    "Given an array of integers nums, return the number of good pairs.\n",
    "\n",
    "A pair (i, j) is called good if nums[i] == nums[j] and i < j.\n",
    "\n",
    " \n",
    "\n",
    "Example 1:\n",
    "\n",
    "Input: nums = [1,2,3,1,1,3]\n",
    "Output: 4\n",
    "Explanation: There are 4 good pairs (0,3), (0,4), (3,4), (2,5) 0-indexed.\n",
    "\n",
    "\n",
    "Example 2:\n",
    "Input: nums = [1,1,1,1]\n",
    "Output: 6\n",
    "Explanation: Each pair in the array are good.\n",
    "Example 3:\n",
    "\n",
    "Input: nums = [1,2,3]\n",
    "Output: 0\n",
    " \n",
    "\n",
    "Constraints:\n",
    "\n",
    "1 <= nums.length <= 100\n",
    "1 <= nums[i] <= 100"
   ]
  },
  {
   "cell_type": "code",
   "execution_count": 25,
   "metadata": {},
   "outputs": [
    {
     "name": "stdout",
     "output_type": "stream",
     "text": [
      "nums(i) =  1  i =  0\n",
      "j =  1  nums(j) =  2\n",
      "[]\n",
      "j =  2  nums(j) =  3\n",
      "[]\n",
      "j =  3  nums(j) =  1\n",
      "['0,3']\n",
      "j =  4  nums(j) =  1\n",
      "['0,3', '0,4']\n",
      "j =  5  nums(j) =  3\n",
      "['0,3', '0,4']\n",
      "nums(i) =  2  i =  1\n",
      "j =  2  nums(j) =  3\n",
      "['0,3', '0,4']\n",
      "j =  3  nums(j) =  1\n",
      "['0,3', '0,4']\n",
      "j =  4  nums(j) =  1\n",
      "['0,3', '0,4']\n",
      "j =  5  nums(j) =  3\n",
      "['0,3', '0,4']\n",
      "nums(i) =  3  i =  2\n",
      "j =  3  nums(j) =  1\n",
      "['0,3', '0,4']\n",
      "j =  4  nums(j) =  1\n",
      "['0,3', '0,4']\n",
      "j =  5  nums(j) =  3\n",
      "['0,3', '0,4', '2,5']\n",
      "nums(i) =  1  i =  3\n",
      "j =  4  nums(j) =  1\n",
      "['0,3', '0,4', '2,5', '3,4']\n",
      "j =  5  nums(j) =  3\n",
      "['0,3', '0,4', '2,5', '3,4']\n",
      "nums(i) =  1  i =  4\n",
      "j =  5  nums(j) =  3\n",
      "['0,3', '0,4', '2,5', '3,4']\n"
     ]
    }
   ],
   "source": [
    "nums = [1,2,3,1,1,3]\n",
    "gpair =[]\n",
    "\n",
    "# print(len(nums)) = 6\n",
    "\n",
    "for i in range(len(nums)-1):\n",
    "    \n",
    "    print(\"nums(i) = \", nums[i], \" i = \", i, sep=\" \")\n",
    "\n",
    "    for j in range(i+1,len(nums)):\n",
    "\n",
    "        print(\"j = \", str(j), \" nums(j) = \", nums[j])\n",
    "        \n",
    "        if (nums[i]==nums[j]):\n",
    "            gpair.append( str(i)+\",\"+str(j))\n",
    "        print(gpair)\n",
    "\n",
    "\n"
   ]
  }
 ],
 "metadata": {
  "kernelspec": {
   "display_name": "Python 3.10.2 64-bit",
   "language": "python",
   "name": "python3"
  },
  "language_info": {
   "codemirror_mode": {
    "name": "ipython",
    "version": 3
   },
   "file_extension": ".py",
   "mimetype": "text/x-python",
   "name": "python",
   "nbconvert_exporter": "python",
   "pygments_lexer": "ipython3",
   "version": "3.10.2"
  },
  "orig_nbformat": 4,
  "vscode": {
   "interpreter": {
    "hash": "aee8b7b246df8f9039afb4144a1f6fd8d2ca17a180786b69acc140d282b71a49"
   }
  }
 },
 "nbformat": 4,
 "nbformat_minor": 2
}

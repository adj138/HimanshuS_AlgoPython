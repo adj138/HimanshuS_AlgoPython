{
 "cells": [
  {
   "cell_type": "markdown",
   "metadata": {},
   "source": [
    "https://practice.geeksforgeeks.org/problems/move-all-negative-elements-to-end1813/1\n",
    "\n",
    "##,Move,all,negative elements to end\n",
    "\n",
    "Given an unsorted array arr[] of size N having both negative and positive integers. The task is place all negative element at the end of array without changing the order of positive element and negative element.\n",
    "\n",
    " \n",
    "\n",
    "### Example 1:\n",
    "\n",
    "Input : <br>\n",
    "N = 8 <br>\n",
    "arr[] = {1, -1, 3, 2, -7, -5, 11, 6 } <br>\n",
    "\n",
    "Output :  <br>\n",
    "1  3  2  11  6  -1  -7  -5 <br>\n",
    "\n",
    "### Example 2:\n",
    "\n",
    "Input :  <br>\n",
    "N=8 <br>\n",
    "arr[] = {-5, 7, -3, -4, 9, 10, -1, 11} <br>\n",
    "Output : <br>\n",
    "7  9  10  11  -5  -3  -4  -1 <br>\n",
    " \n",
    "\n",
    "### Your Task:  \n",
    "You don't need to read input or print anything. Your task is to complete the function segregateElements() which takes the array arr[] and its size N as inputs and store the answer in the array arr[] itself.\n",
    "\n",
    " \n",
    "\n",
    "Expected Time Complexity: O(N) <br>\n",
    "Expected Auxiliary Space: O(N)\n",
    " \n",
    "\n",
    "\n",
    "### Constraints:\n",
    "* 1 ≤ N ≤ 105\n",
    "* -105 ≤ arr[] ≤ 105"
   ]
  },
  {
   "cell_type": "code",
   "execution_count": 2,
   "metadata": {},
   "outputs": [],
   "source": [
    "def segregateElements(arr):\n",
    "    n = len(arr)\n",
    "    print(arr)\n",
    "\n",
    "    arrn = []\n",
    "\n",
    "    # arr = []\n",
    "    # arr.append(1)\n",
    "    # print(arr)\n",
    "    for i in arr:\n",
    "        if (i > 0):\n",
    "            arrn.append(i)\n",
    "\n",
    "    print(arrn)\n",
    "\n",
    "    for i in arr:\n",
    "        if (i < 0):\n",
    "            arrn.append(i)\n",
    "\n",
    "    print(arrn)"
   ]
  },
  {
   "cell_type": "code",
   "execution_count": 3,
   "metadata": {},
   "outputs": [],
   "source": [
    "arr1 = [1, -1, 3, 2, -7, -5, 11, 6]\n",
    "arr2 = [-5, 7, -3, -4, 9, 10, -1, 11]\n",
    "\n",
    "# all negative elements\n",
    "# all positive elements"
   ]
  },
  {
   "cell_type": "code",
   "execution_count": 4,
   "metadata": {},
   "outputs": [
    {
     "name": "stdout",
     "output_type": "stream",
     "text": [
      "[1, -1, 3, 2, -7, -5, 11, 6]\n",
      "[1, 3, 2, 11, 6]\n",
      "[1, 3, 2, 11, 6, -1, -7, -5]\n"
     ]
    }
   ],
   "source": [
    "segregateElements(arr1)"
   ]
  },
  {
   "cell_type": "code",
   "execution_count": 5,
   "metadata": {},
   "outputs": [
    {
     "name": "stdout",
     "output_type": "stream",
     "text": [
      "[-5, 7, -3, -4, 9, 10, -1, 11]\n",
      "[7, 9, 10, 11]\n",
      "[7, 9, 10, 11, -5, -3, -4, -1]\n"
     ]
    }
   ],
   "source": [
    "segregateElements(arr2)"
   ]
  },
  {
   "cell_type": "code",
   "execution_count": 6,
   "metadata": {},
   "outputs": [
    {
     "name": "stdout",
     "output_type": "stream",
     "text": [
      "[1, -1, 3, 2, -7, -5, 11, 6]\n",
      "[1, 3, 2, 11, 6]\n",
      "[1, 3, 2, 11, 6, -1, -7, -5]\n"
     ]
    }
   ],
   "source": [
    "arr3 = [1, -1, 3, 2, -7, -5, 11, 6]\n",
    "segregateElements(arr3)"
   ]
  }
 ],
 "metadata": {
  "kernelspec": {
   "display_name": "Python 3.10.2 64-bit",
   "language": "python",
   "name": "python3"
  },
  "language_info": {
   "codemirror_mode": {
    "name": "ipython",
    "version": 3
   },
   "file_extension": ".py",
   "mimetype": "text/x-python",
   "name": "python",
   "nbconvert_exporter": "python",
   "pygments_lexer": "ipython3",
   "version": "3.10.2"
  },
  "orig_nbformat": 4,
  "vscode": {
   "interpreter": {
    "hash": "aee8b7b246df8f9039afb4144a1f6fd8d2ca17a180786b69acc140d282b71a49"
   }
  }
 },
 "nbformat": 4,
 "nbformat_minor": 2
}

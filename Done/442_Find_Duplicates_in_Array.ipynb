{
 "cells": [
  {
   "cell_type": "markdown",
   "metadata": {},
   "source": [
    "442. Find All Duplicates in an Array\n",
    "\n",
    "https://leetcode.com/problems/find-all-duplicates-in-an-array/\n",
    "\n",
    "Given an integer array nums of length n where all the integers of nums are in the range [1, n] and each integer appears once or twice, return an array of all the integers that appears twice.\n",
    "\n",
    "You must write an algorithm that runs in O(n) time and uses only constant extra space.\n",
    "\n",
    " \n",
    "\n",
    "### Example 1:\n",
    "\n",
    "Input: nums = [4,3,2,7,8,2,3,1]<br>\n",
    "Output: [2,3]\n",
    "\n",
    "### Example 2:\n",
    "\n",
    "Input: nums = [1,1,2]<br>\n",
    "Output: [1]\n",
    "\n",
    "### Example 3:\n",
    "\n",
    "Input: nums = [1]<br>\n",
    "Output: []\n",
    " \n",
    "\n",
    "### Constraints:\n",
    "\n",
    "* n == nums.length\n",
    "* 1 <= n <= 105\n",
    "* 1 <= nums[i] <= n\n",
    "\n",
    "Each element in nums appears once or twice."
   ]
  },
  {
   "cell_type": "code",
   "execution_count": 29,
   "metadata": {},
   "outputs": [],
   "source": [
    "def findDuplicates(nums):\n",
    "        n = len(nums)\n",
    "\n",
    "        print(nums)\n",
    "        print(n)\n",
    "        # n > 1\n",
    "        max = 0\n",
    "\n",
    "        for i in nums:\n",
    "            if (i > max):\n",
    "                max = i\n",
    "        \n",
    "        print(max)\n",
    "        arrn = [None] * (max+1)\n",
    "        print(arrn)\n",
    "        answerarr = []\n",
    "\n",
    "        for i in nums:\n",
    "            if (arrn[i] == None):\n",
    "                arrn[i] = 1\n",
    "                print(arrn)\n",
    "            elif (arrn[i] == 1):\n",
    "                answerarr.append(i)\n",
    "        \n",
    "        print(arrn)\n",
    "        print(answerarr)\n",
    "\n",
    "        return(answerarr)"
   ]
  },
  {
   "cell_type": "code",
   "execution_count": 30,
   "metadata": {},
   "outputs": [],
   "source": [
    "arr1 = [4,3,2,7,8,2,3,1]\n",
    "arr2 = [1,1,2]\n",
    "arr3 = [1]\n",
    "\n",
    "# Two ways:\n",
    "# Time Complexity\n",
    "# Space Complexity"
   ]
  },
  {
   "cell_type": "code",
   "execution_count": 31,
   "metadata": {},
   "outputs": [
    {
     "name": "stdout",
     "output_type": "stream",
     "text": [
      "[4, 3, 2, 7, 8, 2, 3, 1]\n",
      "8\n",
      "8\n",
      "[None, None, None, None, None, None, None, None, None]\n",
      "[None, None, None, None, 1, None, None, None, None]\n",
      "[None, None, None, 1, 1, None, None, None, None]\n",
      "[None, None, 1, 1, 1, None, None, None, None]\n",
      "[None, None, 1, 1, 1, None, None, 1, None]\n",
      "[None, None, 1, 1, 1, None, None, 1, 1]\n",
      "[None, 1, 1, 1, 1, None, None, 1, 1]\n",
      "[None, 1, 1, 1, 1, None, None, 1, 1]\n",
      "[2, 3]\n"
     ]
    },
    {
     "data": {
      "text/plain": [
       "[2, 3]"
      ]
     },
     "execution_count": 31,
     "metadata": {},
     "output_type": "execute_result"
    }
   ],
   "source": [
    "findDuplicates(arr1)"
   ]
  },
  {
   "cell_type": "code",
   "execution_count": 32,
   "metadata": {},
   "outputs": [
    {
     "name": "stdout",
     "output_type": "stream",
     "text": [
      "[1, 1, 2]\n",
      "3\n",
      "2\n",
      "[None, None, None]\n",
      "[None, 1, None]\n",
      "[None, 1, 1]\n",
      "[None, 1, 1]\n",
      "[1]\n"
     ]
    },
    {
     "data": {
      "text/plain": [
       "[1]"
      ]
     },
     "execution_count": 32,
     "metadata": {},
     "output_type": "execute_result"
    }
   ],
   "source": [
    "findDuplicates(arr2)"
   ]
  },
  {
   "cell_type": "code",
   "execution_count": 33,
   "metadata": {},
   "outputs": [
    {
     "name": "stdout",
     "output_type": "stream",
     "text": [
      "[1]\n",
      "1\n",
      "1\n",
      "[None, None]\n",
      "[None, 1]\n",
      "[None, 1]\n",
      "[]\n"
     ]
    },
    {
     "data": {
      "text/plain": [
       "[]"
      ]
     },
     "execution_count": 33,
     "metadata": {},
     "output_type": "execute_result"
    }
   ],
   "source": [
    "findDuplicates(arr3)"
   ]
  },
  {
   "cell_type": "code",
   "execution_count": 34,
   "metadata": {},
   "outputs": [
    {
     "name": "stdout",
     "output_type": "stream",
     "text": [
      "[13, 98, 15, 75, 16, 49, 25, 10, 62, 1, 8, 49, 7, 25, 79, 67, 81, 93, 62, 83, 61, 46, 17, 50, 29, 27, 3, 24, 41, 35, 69, 34, 28, 12, 18, 46, 72, 64, 2, 64, 11, 17, 48, 52, 95, 89, 19, 40, 83, 24, 82, 32, 84, 88, 66, 39, 54, 61, 36, 9, 30, 88, 16, 52, 81, 80, 22, 37, 44, 85, 35, 60, 22, 70, 34, 54, 63, 8, 60, 92, 2, 20, 40, 50, 96, 70, 10, 98, 66, 51, 6, 65, 97, 67, 57, 9, 27, 82, 63, 59]\n",
      "100\n",
      "98\n",
      "[None, None, None, None, None, None, None, None, None, None, None, None, None, None, None, None, None, None, None, None, None, None, None, None, None, None, None, None, None, None, None, None, None, None, None, None, None, None, None, None, None, None, None, None, None, None, None, None, None, None, None, None, None, None, None, None, None, None, None, None, None, None, None, None, None, None, None, None, None, None, None, None, None, None, None, None, None, None, None, None, None, None, None, None, None, None, None, None, None, None, None, None, None, None, None, None, None, None, None]\n",
      "[None, None, None, None, None, None, None, None, None, None, None, None, None, 1, None, None, None, None, None, None, None, None, None, None, None, None, None, None, None, None, None, None, None, None, None, None, None, None, None, None, None, None, None, None, None, None, None, None, None, None, None, None, None, None, None, None, None, None, None, None, None, None, None, None, None, None, None, None, None, None, None, None, None, None, None, None, None, None, None, None, None, None, None, None, None, None, None, None, None, None, None, None, None, None, None, None, None, None, None]\n",
      "[None, None, None, None, None, None, None, None, None, None, None, None, None, 1, None, None, None, None, None, None, None, None, None, None, None, None, None, None, None, None, None, None, None, None, None, None, None, None, None, None, None, None, None, None, None, None, None, None, None, None, None, None, None, None, None, None, None, None, None, None, None, None, None, None, None, None, None, None, None, None, None, None, None, None, None, None, None, None, None, None, None, None, None, None, None, None, None, None, None, None, None, None, None, None, None, None, None, None, 1]\n",
      "[None, None, None, None, None, None, None, None, None, None, None, None, None, 1, None, 1, None, None, None, None, None, None, None, None, None, None, None, None, None, None, None, None, None, None, None, None, None, None, None, None, None, None, None, None, None, None, None, None, None, None, None, None, None, None, None, None, None, None, None, None, None, None, None, None, None, None, None, None, None, None, None, None, None, None, None, None, None, None, None, None, None, None, None, None, None, None, None, None, None, None, None, None, None, None, None, None, None, None, 1]\n",
      "[None, None, None, None, None, None, None, None, None, None, None, None, None, 1, None, 1, None, None, None, None, None, None, None, None, None, None, None, None, None, None, None, None, None, None, None, None, None, None, None, None, None, None, None, None, None, None, None, None, None, None, None, None, None, None, None, None, None, None, None, None, None, None, None, None, None, None, None, None, None, None, None, None, None, None, None, 1, None, None, None, None, None, None, None, None, None, None, None, None, None, None, None, None, None, None, None, None, None, None, 1]\n",
      "[None, None, None, None, None, None, None, None, None, None, None, None, None, 1, None, 1, 1, None, None, None, None, None, None, None, None, None, None, None, None, None, None, None, None, None, None, None, None, None, None, None, None, None, None, None, None, None, None, None, None, None, None, None, None, None, None, None, None, None, None, None, None, None, None, None, None, None, None, None, None, None, None, None, None, None, None, 1, None, None, None, None, None, None, None, None, None, None, None, None, None, None, None, None, None, None, None, None, None, None, 1]\n",
      "[None, None, None, None, None, None, None, None, None, None, None, None, None, 1, None, 1, 1, None, None, None, None, None, None, None, None, None, None, None, None, None, None, None, None, None, None, None, None, None, None, None, None, None, None, None, None, None, None, None, None, 1, None, None, None, None, None, None, None, None, None, None, None, None, None, None, None, None, None, None, None, None, None, None, None, None, None, 1, None, None, None, None, None, None, None, None, None, None, None, None, None, None, None, None, None, None, None, None, None, None, 1]\n",
      "[None, None, None, None, None, None, None, None, None, None, None, None, None, 1, None, 1, 1, None, None, None, None, None, None, None, None, 1, None, None, None, None, None, None, None, None, None, None, None, None, None, None, None, None, None, None, None, None, None, None, None, 1, None, None, None, None, None, None, None, None, None, None, None, None, None, None, None, None, None, None, None, None, None, None, None, None, None, 1, None, None, None, None, None, None, None, None, None, None, None, None, None, None, None, None, None, None, None, None, None, None, 1]\n",
      "[None, None, None, None, None, None, None, None, None, None, 1, None, None, 1, None, 1, 1, None, None, None, None, None, None, None, None, 1, None, None, None, None, None, None, None, None, None, None, None, None, None, None, None, None, None, None, None, None, None, None, None, 1, None, None, None, None, None, None, None, None, None, None, None, None, None, None, None, None, None, None, None, None, None, None, None, None, None, 1, None, None, None, None, None, None, None, None, None, None, None, None, None, None, None, None, None, None, None, None, None, None, 1]\n",
      "[None, None, None, None, None, None, None, None, None, None, 1, None, None, 1, None, 1, 1, None, None, None, None, None, None, None, None, 1, None, None, None, None, None, None, None, None, None, None, None, None, None, None, None, None, None, None, None, None, None, None, None, 1, None, None, None, None, None, None, None, None, None, None, None, None, 1, None, None, None, None, None, None, None, None, None, None, None, None, 1, None, None, None, None, None, None, None, None, None, None, None, None, None, None, None, None, None, None, None, None, None, None, 1]\n",
      "[None, 1, None, None, None, None, None, None, None, None, 1, None, None, 1, None, 1, 1, None, None, None, None, None, None, None, None, 1, None, None, None, None, None, None, None, None, None, None, None, None, None, None, None, None, None, None, None, None, None, None, None, 1, None, None, None, None, None, None, None, None, None, None, None, None, 1, None, None, None, None, None, None, None, None, None, None, None, None, 1, None, None, None, None, None, None, None, None, None, None, None, None, None, None, None, None, None, None, None, None, None, None, 1]\n",
      "[None, 1, None, None, None, None, None, None, 1, None, 1, None, None, 1, None, 1, 1, None, None, None, None, None, None, None, None, 1, None, None, None, None, None, None, None, None, None, None, None, None, None, None, None, None, None, None, None, None, None, None, None, 1, None, None, None, None, None, None, None, None, None, None, None, None, 1, None, None, None, None, None, None, None, None, None, None, None, None, 1, None, None, None, None, None, None, None, None, None, None, None, None, None, None, None, None, None, None, None, None, None, None, 1]\n",
      "[None, 1, None, None, None, None, None, 1, 1, None, 1, None, None, 1, None, 1, 1, None, None, None, None, None, None, None, None, 1, None, None, None, None, None, None, None, None, None, None, None, None, None, None, None, None, None, None, None, None, None, None, None, 1, None, None, None, None, None, None, None, None, None, None, None, None, 1, None, None, None, None, None, None, None, None, None, None, None, None, 1, None, None, None, None, None, None, None, None, None, None, None, None, None, None, None, None, None, None, None, None, None, None, 1]\n",
      "[None, 1, None, None, None, None, None, 1, 1, None, 1, None, None, 1, None, 1, 1, None, None, None, None, None, None, None, None, 1, None, None, None, None, None, None, None, None, None, None, None, None, None, None, None, None, None, None, None, None, None, None, None, 1, None, None, None, None, None, None, None, None, None, None, None, None, 1, None, None, None, None, None, None, None, None, None, None, None, None, 1, None, None, None, 1, None, None, None, None, None, None, None, None, None, None, None, None, None, None, None, None, None, None, 1]\n",
      "[None, 1, None, None, None, None, None, 1, 1, None, 1, None, None, 1, None, 1, 1, None, None, None, None, None, None, None, None, 1, None, None, None, None, None, None, None, None, None, None, None, None, None, None, None, None, None, None, None, None, None, None, None, 1, None, None, None, None, None, None, None, None, None, None, None, None, 1, None, None, None, None, 1, None, None, None, None, None, None, None, 1, None, None, None, 1, None, None, None, None, None, None, None, None, None, None, None, None, None, None, None, None, None, None, 1]\n",
      "[None, 1, None, None, None, None, None, 1, 1, None, 1, None, None, 1, None, 1, 1, None, None, None, None, None, None, None, None, 1, None, None, None, None, None, None, None, None, None, None, None, None, None, None, None, None, None, None, None, None, None, None, None, 1, None, None, None, None, None, None, None, None, None, None, None, None, 1, None, None, None, None, 1, None, None, None, None, None, None, None, 1, None, None, None, 1, None, 1, None, None, None, None, None, None, None, None, None, None, None, None, None, None, None, None, 1]\n",
      "[None, 1, None, None, None, None, None, 1, 1, None, 1, None, None, 1, None, 1, 1, None, None, None, None, None, None, None, None, 1, None, None, None, None, None, None, None, None, None, None, None, None, None, None, None, None, None, None, None, None, None, None, None, 1, None, None, None, None, None, None, None, None, None, None, None, None, 1, None, None, None, None, 1, None, None, None, None, None, None, None, 1, None, None, None, 1, None, 1, None, None, None, None, None, None, None, None, None, None, None, 1, None, None, None, None, 1]\n",
      "[None, 1, None, None, None, None, None, 1, 1, None, 1, None, None, 1, None, 1, 1, None, None, None, None, None, None, None, None, 1, None, None, None, None, None, None, None, None, None, None, None, None, None, None, None, None, None, None, None, None, None, None, None, 1, None, None, None, None, None, None, None, None, None, None, None, None, 1, None, None, None, None, 1, None, None, None, None, None, None, None, 1, None, None, None, 1, None, 1, None, 1, None, None, None, None, None, None, None, None, None, 1, None, None, None, None, 1]\n",
      "[None, 1, None, None, None, None, None, 1, 1, None, 1, None, None, 1, None, 1, 1, None, None, None, None, None, None, None, None, 1, None, None, None, None, None, None, None, None, None, None, None, None, None, None, None, None, None, None, None, None, None, None, None, 1, None, None, None, None, None, None, None, None, None, None, None, 1, 1, None, None, None, None, 1, None, None, None, None, None, None, None, 1, None, None, None, 1, None, 1, None, 1, None, None, None, None, None, None, None, None, None, 1, None, None, None, None, 1]\n",
      "[None, 1, None, None, None, None, None, 1, 1, None, 1, None, None, 1, None, 1, 1, None, None, None, None, None, None, None, None, 1, None, None, None, None, None, None, None, None, None, None, None, None, None, None, None, None, None, None, None, None, 1, None, None, 1, None, None, None, None, None, None, None, None, None, None, None, 1, 1, None, None, None, None, 1, None, None, None, None, None, None, None, 1, None, None, None, 1, None, 1, None, 1, None, None, None, None, None, None, None, None, None, 1, None, None, None, None, 1]\n",
      "[None, 1, None, None, None, None, None, 1, 1, None, 1, None, None, 1, None, 1, 1, 1, None, None, None, None, None, None, None, 1, None, None, None, None, None, None, None, None, None, None, None, None, None, None, None, None, None, None, None, None, 1, None, None, 1, None, None, None, None, None, None, None, None, None, None, None, 1, 1, None, None, None, None, 1, None, None, None, None, None, None, None, 1, None, None, None, 1, None, 1, None, 1, None, None, None, None, None, None, None, None, None, 1, None, None, None, None, 1]\n",
      "[None, 1, None, None, None, None, None, 1, 1, None, 1, None, None, 1, None, 1, 1, 1, None, None, None, None, None, None, None, 1, None, None, None, None, None, None, None, None, None, None, None, None, None, None, None, None, None, None, None, None, 1, None, None, 1, 1, None, None, None, None, None, None, None, None, None, None, 1, 1, None, None, None, None, 1, None, None, None, None, None, None, None, 1, None, None, None, 1, None, 1, None, 1, None, None, None, None, None, None, None, None, None, 1, None, None, None, None, 1]\n",
      "[None, 1, None, None, None, None, None, 1, 1, None, 1, None, None, 1, None, 1, 1, 1, None, None, None, None, None, None, None, 1, None, None, None, 1, None, None, None, None, None, None, None, None, None, None, None, None, None, None, None, None, 1, None, None, 1, 1, None, None, None, None, None, None, None, None, None, None, 1, 1, None, None, None, None, 1, None, None, None, None, None, None, None, 1, None, None, None, 1, None, 1, None, 1, None, None, None, None, None, None, None, None, None, 1, None, None, None, None, 1]\n",
      "[None, 1, None, None, None, None, None, 1, 1, None, 1, None, None, 1, None, 1, 1, 1, None, None, None, None, None, None, None, 1, None, 1, None, 1, None, None, None, None, None, None, None, None, None, None, None, None, None, None, None, None, 1, None, None, 1, 1, None, None, None, None, None, None, None, None, None, None, 1, 1, None, None, None, None, 1, None, None, None, None, None, None, None, 1, None, None, None, 1, None, 1, None, 1, None, None, None, None, None, None, None, None, None, 1, None, None, None, None, 1]\n",
      "[None, 1, None, 1, None, None, None, 1, 1, None, 1, None, None, 1, None, 1, 1, 1, None, None, None, None, None, None, None, 1, None, 1, None, 1, None, None, None, None, None, None, None, None, None, None, None, None, None, None, None, None, 1, None, None, 1, 1, None, None, None, None, None, None, None, None, None, None, 1, 1, None, None, None, None, 1, None, None, None, None, None, None, None, 1, None, None, None, 1, None, 1, None, 1, None, None, None, None, None, None, None, None, None, 1, None, None, None, None, 1]\n",
      "[None, 1, None, 1, None, None, None, 1, 1, None, 1, None, None, 1, None, 1, 1, 1, None, None, None, None, None, None, 1, 1, None, 1, None, 1, None, None, None, None, None, None, None, None, None, None, None, None, None, None, None, None, 1, None, None, 1, 1, None, None, None, None, None, None, None, None, None, None, 1, 1, None, None, None, None, 1, None, None, None, None, None, None, None, 1, None, None, None, 1, None, 1, None, 1, None, None, None, None, None, None, None, None, None, 1, None, None, None, None, 1]\n",
      "[None, 1, None, 1, None, None, None, 1, 1, None, 1, None, None, 1, None, 1, 1, 1, None, None, None, None, None, None, 1, 1, None, 1, None, 1, None, None, None, None, None, None, None, None, None, None, None, 1, None, None, None, None, 1, None, None, 1, 1, None, None, None, None, None, None, None, None, None, None, 1, 1, None, None, None, None, 1, None, None, None, None, None, None, None, 1, None, None, None, 1, None, 1, None, 1, None, None, None, None, None, None, None, None, None, 1, None, None, None, None, 1]\n",
      "[None, 1, None, 1, None, None, None, 1, 1, None, 1, None, None, 1, None, 1, 1, 1, None, None, None, None, None, None, 1, 1, None, 1, None, 1, None, None, None, None, None, 1, None, None, None, None, None, 1, None, None, None, None, 1, None, None, 1, 1, None, None, None, None, None, None, None, None, None, None, 1, 1, None, None, None, None, 1, None, None, None, None, None, None, None, 1, None, None, None, 1, None, 1, None, 1, None, None, None, None, None, None, None, None, None, 1, None, None, None, None, 1]\n",
      "[None, 1, None, 1, None, None, None, 1, 1, None, 1, None, None, 1, None, 1, 1, 1, None, None, None, None, None, None, 1, 1, None, 1, None, 1, None, None, None, None, None, 1, None, None, None, None, None, 1, None, None, None, None, 1, None, None, 1, 1, None, None, None, None, None, None, None, None, None, None, 1, 1, None, None, None, None, 1, None, 1, None, None, None, None, None, 1, None, None, None, 1, None, 1, None, 1, None, None, None, None, None, None, None, None, None, 1, None, None, None, None, 1]\n",
      "[None, 1, None, 1, None, None, None, 1, 1, None, 1, None, None, 1, None, 1, 1, 1, None, None, None, None, None, None, 1, 1, None, 1, None, 1, None, None, None, None, 1, 1, None, None, None, None, None, 1, None, None, None, None, 1, None, None, 1, 1, None, None, None, None, None, None, None, None, None, None, 1, 1, None, None, None, None, 1, None, 1, None, None, None, None, None, 1, None, None, None, 1, None, 1, None, 1, None, None, None, None, None, None, None, None, None, 1, None, None, None, None, 1]\n",
      "[None, 1, None, 1, None, None, None, 1, 1, None, 1, None, None, 1, None, 1, 1, 1, None, None, None, None, None, None, 1, 1, None, 1, 1, 1, None, None, None, None, 1, 1, None, None, None, None, None, 1, None, None, None, None, 1, None, None, 1, 1, None, None, None, None, None, None, None, None, None, None, 1, 1, None, None, None, None, 1, None, 1, None, None, None, None, None, 1, None, None, None, 1, None, 1, None, 1, None, None, None, None, None, None, None, None, None, 1, None, None, None, None, 1]\n",
      "[None, 1, None, 1, None, None, None, 1, 1, None, 1, None, 1, 1, None, 1, 1, 1, None, None, None, None, None, None, 1, 1, None, 1, 1, 1, None, None, None, None, 1, 1, None, None, None, None, None, 1, None, None, None, None, 1, None, None, 1, 1, None, None, None, None, None, None, None, None, None, None, 1, 1, None, None, None, None, 1, None, 1, None, None, None, None, None, 1, None, None, None, 1, None, 1, None, 1, None, None, None, None, None, None, None, None, None, 1, None, None, None, None, 1]\n",
      "[None, 1, None, 1, None, None, None, 1, 1, None, 1, None, 1, 1, None, 1, 1, 1, 1, None, None, None, None, None, 1, 1, None, 1, 1, 1, None, None, None, None, 1, 1, None, None, None, None, None, 1, None, None, None, None, 1, None, None, 1, 1, None, None, None, None, None, None, None, None, None, None, 1, 1, None, None, None, None, 1, None, 1, None, None, None, None, None, 1, None, None, None, 1, None, 1, None, 1, None, None, None, None, None, None, None, None, None, 1, None, None, None, None, 1]\n",
      "[None, 1, None, 1, None, None, None, 1, 1, None, 1, None, 1, 1, None, 1, 1, 1, 1, None, None, None, None, None, 1, 1, None, 1, 1, 1, None, None, None, None, 1, 1, None, None, None, None, None, 1, None, None, None, None, 1, None, None, 1, 1, None, None, None, None, None, None, None, None, None, None, 1, 1, None, None, None, None, 1, None, 1, None, None, 1, None, None, 1, None, None, None, 1, None, 1, None, 1, None, None, None, None, None, None, None, None, None, 1, None, None, None, None, 1]\n",
      "[None, 1, None, 1, None, None, None, 1, 1, None, 1, None, 1, 1, None, 1, 1, 1, 1, None, None, None, None, None, 1, 1, None, 1, 1, 1, None, None, None, None, 1, 1, None, None, None, None, None, 1, None, None, None, None, 1, None, None, 1, 1, None, None, None, None, None, None, None, None, None, None, 1, 1, None, 1, None, None, 1, None, 1, None, None, 1, None, None, 1, None, None, None, 1, None, 1, None, 1, None, None, None, None, None, None, None, None, None, 1, None, None, None, None, 1]\n",
      "[None, 1, 1, 1, None, None, None, 1, 1, None, 1, None, 1, 1, None, 1, 1, 1, 1, None, None, None, None, None, 1, 1, None, 1, 1, 1, None, None, None, None, 1, 1, None, None, None, None, None, 1, None, None, None, None, 1, None, None, 1, 1, None, None, None, None, None, None, None, None, None, None, 1, 1, None, 1, None, None, 1, None, 1, None, None, 1, None, None, 1, None, None, None, 1, None, 1, None, 1, None, None, None, None, None, None, None, None, None, 1, None, None, None, None, 1]\n",
      "[None, 1, 1, 1, None, None, None, 1, 1, None, 1, 1, 1, 1, None, 1, 1, 1, 1, None, None, None, None, None, 1, 1, None, 1, 1, 1, None, None, None, None, 1, 1, None, None, None, None, None, 1, None, None, None, None, 1, None, None, 1, 1, None, None, None, None, None, None, None, None, None, None, 1, 1, None, 1, None, None, 1, None, 1, None, None, 1, None, None, 1, None, None, None, 1, None, 1, None, 1, None, None, None, None, None, None, None, None, None, 1, None, None, None, None, 1]\n",
      "[None, 1, 1, 1, None, None, None, 1, 1, None, 1, 1, 1, 1, None, 1, 1, 1, 1, None, None, None, None, None, 1, 1, None, 1, 1, 1, None, None, None, None, 1, 1, None, None, None, None, None, 1, None, None, None, None, 1, None, 1, 1, 1, None, None, None, None, None, None, None, None, None, None, 1, 1, None, 1, None, None, 1, None, 1, None, None, 1, None, None, 1, None, None, None, 1, None, 1, None, 1, None, None, None, None, None, None, None, None, None, 1, None, None, None, None, 1]\n",
      "[None, 1, 1, 1, None, None, None, 1, 1, None, 1, 1, 1, 1, None, 1, 1, 1, 1, None, None, None, None, None, 1, 1, None, 1, 1, 1, None, None, None, None, 1, 1, None, None, None, None, None, 1, None, None, None, None, 1, None, 1, 1, 1, None, 1, None, None, None, None, None, None, None, None, 1, 1, None, 1, None, None, 1, None, 1, None, None, 1, None, None, 1, None, None, None, 1, None, 1, None, 1, None, None, None, None, None, None, None, None, None, 1, None, None, None, None, 1]\n",
      "[None, 1, 1, 1, None, None, None, 1, 1, None, 1, 1, 1, 1, None, 1, 1, 1, 1, None, None, None, None, None, 1, 1, None, 1, 1, 1, None, None, None, None, 1, 1, None, None, None, None, None, 1, None, None, None, None, 1, None, 1, 1, 1, None, 1, None, None, None, None, None, None, None, None, 1, 1, None, 1, None, None, 1, None, 1, None, None, 1, None, None, 1, None, None, None, 1, None, 1, None, 1, None, None, None, None, None, None, None, None, None, 1, None, 1, None, None, 1]\n",
      "[None, 1, 1, 1, None, None, None, 1, 1, None, 1, 1, 1, 1, None, 1, 1, 1, 1, None, None, None, None, None, 1, 1, None, 1, 1, 1, None, None, None, None, 1, 1, None, None, None, None, None, 1, None, None, None, None, 1, None, 1, 1, 1, None, 1, None, None, None, None, None, None, None, None, 1, 1, None, 1, None, None, 1, None, 1, None, None, 1, None, None, 1, None, None, None, 1, None, 1, None, 1, None, None, None, None, None, 1, None, None, None, 1, None, 1, None, None, 1]\n",
      "[None, 1, 1, 1, None, None, None, 1, 1, None, 1, 1, 1, 1, None, 1, 1, 1, 1, 1, None, None, None, None, 1, 1, None, 1, 1, 1, None, None, None, None, 1, 1, None, None, None, None, None, 1, None, None, None, None, 1, None, 1, 1, 1, None, 1, None, None, None, None, None, None, None, None, 1, 1, None, 1, None, None, 1, None, 1, None, None, 1, None, None, 1, None, None, None, 1, None, 1, None, 1, None, None, None, None, None, 1, None, None, None, 1, None, 1, None, None, 1]\n",
      "[None, 1, 1, 1, None, None, None, 1, 1, None, 1, 1, 1, 1, None, 1, 1, 1, 1, 1, None, None, None, None, 1, 1, None, 1, 1, 1, None, None, None, None, 1, 1, None, None, None, None, 1, 1, None, None, None, None, 1, None, 1, 1, 1, None, 1, None, None, None, None, None, None, None, None, 1, 1, None, 1, None, None, 1, None, 1, None, None, 1, None, None, 1, None, None, None, 1, None, 1, None, 1, None, None, None, None, None, 1, None, None, None, 1, None, 1, None, None, 1]\n",
      "[None, 1, 1, 1, None, None, None, 1, 1, None, 1, 1, 1, 1, None, 1, 1, 1, 1, 1, None, None, None, None, 1, 1, None, 1, 1, 1, None, None, None, None, 1, 1, None, None, None, None, 1, 1, None, None, None, None, 1, None, 1, 1, 1, None, 1, None, None, None, None, None, None, None, None, 1, 1, None, 1, None, None, 1, None, 1, None, None, 1, None, None, 1, None, None, None, 1, None, 1, 1, 1, None, None, None, None, None, 1, None, None, None, 1, None, 1, None, None, 1]\n",
      "[None, 1, 1, 1, None, None, None, 1, 1, None, 1, 1, 1, 1, None, 1, 1, 1, 1, 1, None, None, None, None, 1, 1, None, 1, 1, 1, None, None, 1, None, 1, 1, None, None, None, None, 1, 1, None, None, None, None, 1, None, 1, 1, 1, None, 1, None, None, None, None, None, None, None, None, 1, 1, None, 1, None, None, 1, None, 1, None, None, 1, None, None, 1, None, None, None, 1, None, 1, 1, 1, None, None, None, None, None, 1, None, None, None, 1, None, 1, None, None, 1]\n",
      "[None, 1, 1, 1, None, None, None, 1, 1, None, 1, 1, 1, 1, None, 1, 1, 1, 1, 1, None, None, None, None, 1, 1, None, 1, 1, 1, None, None, 1, None, 1, 1, None, None, None, None, 1, 1, None, None, None, None, 1, None, 1, 1, 1, None, 1, None, None, None, None, None, None, None, None, 1, 1, None, 1, None, None, 1, None, 1, None, None, 1, None, None, 1, None, None, None, 1, None, 1, 1, 1, 1, None, None, None, None, 1, None, None, None, 1, None, 1, None, None, 1]\n",
      "[None, 1, 1, 1, None, None, None, 1, 1, None, 1, 1, 1, 1, None, 1, 1, 1, 1, 1, None, None, None, None, 1, 1, None, 1, 1, 1, None, None, 1, None, 1, 1, None, None, None, None, 1, 1, None, None, None, None, 1, None, 1, 1, 1, None, 1, None, None, None, None, None, None, None, None, 1, 1, None, 1, None, None, 1, None, 1, None, None, 1, None, None, 1, None, None, None, 1, None, 1, 1, 1, 1, None, None, None, 1, 1, None, None, None, 1, None, 1, None, None, 1]\n",
      "[None, 1, 1, 1, None, None, None, 1, 1, None, 1, 1, 1, 1, None, 1, 1, 1, 1, 1, None, None, None, None, 1, 1, None, 1, 1, 1, None, None, 1, None, 1, 1, None, None, None, None, 1, 1, None, None, None, None, 1, None, 1, 1, 1, None, 1, None, None, None, None, None, None, None, None, 1, 1, None, 1, None, 1, 1, None, 1, None, None, 1, None, None, 1, None, None, None, 1, None, 1, 1, 1, 1, None, None, None, 1, 1, None, None, None, 1, None, 1, None, None, 1]\n",
      "[None, 1, 1, 1, None, None, None, 1, 1, None, 1, 1, 1, 1, None, 1, 1, 1, 1, 1, None, None, None, None, 1, 1, None, 1, 1, 1, None, None, 1, None, 1, 1, None, None, None, 1, 1, 1, None, None, None, None, 1, None, 1, 1, 1, None, 1, None, None, None, None, None, None, None, None, 1, 1, None, 1, None, 1, 1, None, 1, None, None, 1, None, None, 1, None, None, None, 1, None, 1, 1, 1, 1, None, None, None, 1, 1, None, None, None, 1, None, 1, None, None, 1]\n",
      "[None, 1, 1, 1, None, None, None, 1, 1, None, 1, 1, 1, 1, None, 1, 1, 1, 1, 1, None, None, None, None, 1, 1, None, 1, 1, 1, None, None, 1, None, 1, 1, None, None, None, 1, 1, 1, None, None, None, None, 1, None, 1, 1, 1, None, 1, None, 1, None, None, None, None, None, None, 1, 1, None, 1, None, 1, 1, None, 1, None, None, 1, None, None, 1, None, None, None, 1, None, 1, 1, 1, 1, None, None, None, 1, 1, None, None, None, 1, None, 1, None, None, 1]\n",
      "[None, 1, 1, 1, None, None, None, 1, 1, None, 1, 1, 1, 1, None, 1, 1, 1, 1, 1, None, None, None, None, 1, 1, None, 1, 1, 1, None, None, 1, None, 1, 1, 1, None, None, 1, 1, 1, None, None, None, None, 1, None, 1, 1, 1, None, 1, None, 1, None, None, None, None, None, None, 1, 1, None, 1, None, 1, 1, None, 1, None, None, 1, None, None, 1, None, None, None, 1, None, 1, 1, 1, 1, None, None, None, 1, 1, None, None, None, 1, None, 1, None, None, 1]\n",
      "[None, 1, 1, 1, None, None, None, 1, 1, 1, 1, 1, 1, 1, None, 1, 1, 1, 1, 1, None, None, None, None, 1, 1, None, 1, 1, 1, None, None, 1, None, 1, 1, 1, None, None, 1, 1, 1, None, None, None, None, 1, None, 1, 1, 1, None, 1, None, 1, None, None, None, None, None, None, 1, 1, None, 1, None, 1, 1, None, 1, None, None, 1, None, None, 1, None, None, None, 1, None, 1, 1, 1, 1, None, None, None, 1, 1, None, None, None, 1, None, 1, None, None, 1]\n",
      "[None, 1, 1, 1, None, None, None, 1, 1, 1, 1, 1, 1, 1, None, 1, 1, 1, 1, 1, None, None, None, None, 1, 1, None, 1, 1, 1, 1, None, 1, None, 1, 1, 1, None, None, 1, 1, 1, None, None, None, None, 1, None, 1, 1, 1, None, 1, None, 1, None, None, None, None, None, None, 1, 1, None, 1, None, 1, 1, None, 1, None, None, 1, None, None, 1, None, None, None, 1, None, 1, 1, 1, 1, None, None, None, 1, 1, None, None, None, 1, None, 1, None, None, 1]\n",
      "[None, 1, 1, 1, None, None, None, 1, 1, 1, 1, 1, 1, 1, None, 1, 1, 1, 1, 1, None, None, None, None, 1, 1, None, 1, 1, 1, 1, None, 1, None, 1, 1, 1, None, None, 1, 1, 1, None, None, None, None, 1, None, 1, 1, 1, None, 1, None, 1, None, None, None, None, None, None, 1, 1, None, 1, None, 1, 1, None, 1, None, None, 1, None, None, 1, None, None, None, 1, 1, 1, 1, 1, 1, None, None, None, 1, 1, None, None, None, 1, None, 1, None, None, 1]\n",
      "[None, 1, 1, 1, None, None, None, 1, 1, 1, 1, 1, 1, 1, None, 1, 1, 1, 1, 1, None, None, 1, None, 1, 1, None, 1, 1, 1, 1, None, 1, None, 1, 1, 1, None, None, 1, 1, 1, None, None, None, None, 1, None, 1, 1, 1, None, 1, None, 1, None, None, None, None, None, None, 1, 1, None, 1, None, 1, 1, None, 1, None, None, 1, None, None, 1, None, None, None, 1, 1, 1, 1, 1, 1, None, None, None, 1, 1, None, None, None, 1, None, 1, None, None, 1]\n",
      "[None, 1, 1, 1, None, None, None, 1, 1, 1, 1, 1, 1, 1, None, 1, 1, 1, 1, 1, None, None, 1, None, 1, 1, None, 1, 1, 1, 1, None, 1, None, 1, 1, 1, 1, None, 1, 1, 1, None, None, None, None, 1, None, 1, 1, 1, None, 1, None, 1, None, None, None, None, None, None, 1, 1, None, 1, None, 1, 1, None, 1, None, None, 1, None, None, 1, None, None, None, 1, 1, 1, 1, 1, 1, None, None, None, 1, 1, None, None, None, 1, None, 1, None, None, 1]\n",
      "[None, 1, 1, 1, None, None, None, 1, 1, 1, 1, 1, 1, 1, None, 1, 1, 1, 1, 1, None, None, 1, None, 1, 1, None, 1, 1, 1, 1, None, 1, None, 1, 1, 1, 1, None, 1, 1, 1, None, None, 1, None, 1, None, 1, 1, 1, None, 1, None, 1, None, None, None, None, None, None, 1, 1, None, 1, None, 1, 1, None, 1, None, None, 1, None, None, 1, None, None, None, 1, 1, 1, 1, 1, 1, None, None, None, 1, 1, None, None, None, 1, None, 1, None, None, 1]\n",
      "[None, 1, 1, 1, None, None, None, 1, 1, 1, 1, 1, 1, 1, None, 1, 1, 1, 1, 1, None, None, 1, None, 1, 1, None, 1, 1, 1, 1, None, 1, None, 1, 1, 1, 1, None, 1, 1, 1, None, None, 1, None, 1, None, 1, 1, 1, None, 1, None, 1, None, None, None, None, None, None, 1, 1, None, 1, None, 1, 1, None, 1, None, None, 1, None, None, 1, None, None, None, 1, 1, 1, 1, 1, 1, 1, None, None, 1, 1, None, None, None, 1, None, 1, None, None, 1]\n",
      "[None, 1, 1, 1, None, None, None, 1, 1, 1, 1, 1, 1, 1, None, 1, 1, 1, 1, 1, None, None, 1, None, 1, 1, None, 1, 1, 1, 1, None, 1, None, 1, 1, 1, 1, None, 1, 1, 1, None, None, 1, None, 1, None, 1, 1, 1, None, 1, None, 1, None, None, None, None, None, 1, 1, 1, None, 1, None, 1, 1, None, 1, None, None, 1, None, None, 1, None, None, None, 1, 1, 1, 1, 1, 1, 1, None, None, 1, 1, None, None, None, 1, None, 1, None, None, 1]\n",
      "[None, 1, 1, 1, None, None, None, 1, 1, 1, 1, 1, 1, 1, None, 1, 1, 1, 1, 1, None, None, 1, None, 1, 1, None, 1, 1, 1, 1, None, 1, None, 1, 1, 1, 1, None, 1, 1, 1, None, None, 1, None, 1, None, 1, 1, 1, None, 1, None, 1, None, None, None, None, None, 1, 1, 1, None, 1, None, 1, 1, None, 1, 1, None, 1, None, None, 1, None, None, None, 1, 1, 1, 1, 1, 1, 1, None, None, 1, 1, None, None, None, 1, None, 1, None, None, 1]\n",
      "[None, 1, 1, 1, None, None, None, 1, 1, 1, 1, 1, 1, 1, None, 1, 1, 1, 1, 1, None, None, 1, None, 1, 1, None, 1, 1, 1, 1, None, 1, None, 1, 1, 1, 1, None, 1, 1, 1, None, None, 1, None, 1, None, 1, 1, 1, None, 1, None, 1, None, None, None, None, None, 1, 1, 1, 1, 1, None, 1, 1, None, 1, 1, None, 1, None, None, 1, None, None, None, 1, 1, 1, 1, 1, 1, 1, None, None, 1, 1, None, None, None, 1, None, 1, None, None, 1]\n",
      "[None, 1, 1, 1, None, None, None, 1, 1, 1, 1, 1, 1, 1, None, 1, 1, 1, 1, 1, None, None, 1, None, 1, 1, None, 1, 1, 1, 1, None, 1, None, 1, 1, 1, 1, None, 1, 1, 1, None, None, 1, None, 1, None, 1, 1, 1, None, 1, None, 1, None, None, None, None, None, 1, 1, 1, 1, 1, None, 1, 1, None, 1, 1, None, 1, None, None, 1, None, None, None, 1, 1, 1, 1, 1, 1, 1, None, None, 1, 1, None, None, 1, 1, None, 1, None, None, 1]\n",
      "[None, 1, 1, 1, None, None, None, 1, 1, 1, 1, 1, 1, 1, None, 1, 1, 1, 1, 1, 1, None, 1, None, 1, 1, None, 1, 1, 1, 1, None, 1, None, 1, 1, 1, 1, None, 1, 1, 1, None, None, 1, None, 1, None, 1, 1, 1, None, 1, None, 1, None, None, None, None, None, 1, 1, 1, 1, 1, None, 1, 1, None, 1, 1, None, 1, None, None, 1, None, None, None, 1, 1, 1, 1, 1, 1, 1, None, None, 1, 1, None, None, 1, 1, None, 1, None, None, 1]\n",
      "[None, 1, 1, 1, None, None, None, 1, 1, 1, 1, 1, 1, 1, None, 1, 1, 1, 1, 1, 1, None, 1, None, 1, 1, None, 1, 1, 1, 1, None, 1, None, 1, 1, 1, 1, None, 1, 1, 1, None, None, 1, None, 1, None, 1, 1, 1, None, 1, None, 1, None, None, None, None, None, 1, 1, 1, 1, 1, None, 1, 1, None, 1, 1, None, 1, None, None, 1, None, None, None, 1, 1, 1, 1, 1, 1, 1, None, None, 1, 1, None, None, 1, 1, None, 1, 1, None, 1]\n",
      "[None, 1, 1, 1, None, None, None, 1, 1, 1, 1, 1, 1, 1, None, 1, 1, 1, 1, 1, 1, None, 1, None, 1, 1, None, 1, 1, 1, 1, None, 1, None, 1, 1, 1, 1, None, 1, 1, 1, None, None, 1, None, 1, None, 1, 1, 1, 1, 1, None, 1, None, None, None, None, None, 1, 1, 1, 1, 1, None, 1, 1, None, 1, 1, None, 1, None, None, 1, None, None, None, 1, 1, 1, 1, 1, 1, 1, None, None, 1, 1, None, None, 1, 1, None, 1, 1, None, 1]\n",
      "[None, 1, 1, 1, None, None, 1, 1, 1, 1, 1, 1, 1, 1, None, 1, 1, 1, 1, 1, 1, None, 1, None, 1, 1, None, 1, 1, 1, 1, None, 1, None, 1, 1, 1, 1, None, 1, 1, 1, None, None, 1, None, 1, None, 1, 1, 1, 1, 1, None, 1, None, None, None, None, None, 1, 1, 1, 1, 1, None, 1, 1, None, 1, 1, None, 1, None, None, 1, None, None, None, 1, 1, 1, 1, 1, 1, 1, None, None, 1, 1, None, None, 1, 1, None, 1, 1, None, 1]\n",
      "[None, 1, 1, 1, None, None, 1, 1, 1, 1, 1, 1, 1, 1, None, 1, 1, 1, 1, 1, 1, None, 1, None, 1, 1, None, 1, 1, 1, 1, None, 1, None, 1, 1, 1, 1, None, 1, 1, 1, None, None, 1, None, 1, None, 1, 1, 1, 1, 1, None, 1, None, None, None, None, None, 1, 1, 1, 1, 1, 1, 1, 1, None, 1, 1, None, 1, None, None, 1, None, None, None, 1, 1, 1, 1, 1, 1, 1, None, None, 1, 1, None, None, 1, 1, None, 1, 1, None, 1]\n",
      "[None, 1, 1, 1, None, None, 1, 1, 1, 1, 1, 1, 1, 1, None, 1, 1, 1, 1, 1, 1, None, 1, None, 1, 1, None, 1, 1, 1, 1, None, 1, None, 1, 1, 1, 1, None, 1, 1, 1, None, None, 1, None, 1, None, 1, 1, 1, 1, 1, None, 1, None, None, None, None, None, 1, 1, 1, 1, 1, 1, 1, 1, None, 1, 1, None, 1, None, None, 1, None, None, None, 1, 1, 1, 1, 1, 1, 1, None, None, 1, 1, None, None, 1, 1, None, 1, 1, 1, 1]\n",
      "[None, 1, 1, 1, None, None, 1, 1, 1, 1, 1, 1, 1, 1, None, 1, 1, 1, 1, 1, 1, None, 1, None, 1, 1, None, 1, 1, 1, 1, None, 1, None, 1, 1, 1, 1, None, 1, 1, 1, None, None, 1, None, 1, None, 1, 1, 1, 1, 1, None, 1, None, None, 1, None, None, 1, 1, 1, 1, 1, 1, 1, 1, None, 1, 1, None, 1, None, None, 1, None, None, None, 1, 1, 1, 1, 1, 1, 1, None, None, 1, 1, None, None, 1, 1, None, 1, 1, 1, 1]\n",
      "[None, 1, 1, 1, None, None, 1, 1, 1, 1, 1, 1, 1, 1, None, 1, 1, 1, 1, 1, 1, None, 1, None, 1, 1, None, 1, 1, 1, 1, None, 1, None, 1, 1, 1, 1, None, 1, 1, 1, None, None, 1, None, 1, None, 1, 1, 1, 1, 1, None, 1, None, None, 1, None, 1, 1, 1, 1, 1, 1, 1, 1, 1, None, 1, 1, None, 1, None, None, 1, None, None, None, 1, 1, 1, 1, 1, 1, 1, None, None, 1, 1, None, None, 1, 1, None, 1, 1, 1, 1]\n",
      "[None, 1, 1, 1, None, None, 1, 1, 1, 1, 1, 1, 1, 1, None, 1, 1, 1, 1, 1, 1, None, 1, None, 1, 1, None, 1, 1, 1, 1, None, 1, None, 1, 1, 1, 1, None, 1, 1, 1, None, None, 1, None, 1, None, 1, 1, 1, 1, 1, None, 1, None, None, 1, None, 1, 1, 1, 1, 1, 1, 1, 1, 1, None, 1, 1, None, 1, None, None, 1, None, None, None, 1, 1, 1, 1, 1, 1, 1, None, None, 1, 1, None, None, 1, 1, None, 1, 1, 1, 1]\n",
      "[49, 25, 62, 46, 64, 17, 83, 24, 61, 88, 16, 52, 81, 35, 22, 34, 54, 8, 60, 2, 40, 50, 70, 10, 98, 66, 67, 9, 27, 82, 63]\n"
     ]
    },
    {
     "data": {
      "text/plain": [
       "[49,\n",
       " 25,\n",
       " 62,\n",
       " 46,\n",
       " 64,\n",
       " 17,\n",
       " 83,\n",
       " 24,\n",
       " 61,\n",
       " 88,\n",
       " 16,\n",
       " 52,\n",
       " 81,\n",
       " 35,\n",
       " 22,\n",
       " 34,\n",
       " 54,\n",
       " 8,\n",
       " 60,\n",
       " 2,\n",
       " 40,\n",
       " 50,\n",
       " 70,\n",
       " 10,\n",
       " 98,\n",
       " 66,\n",
       " 67,\n",
       " 9,\n",
       " 27,\n",
       " 82,\n",
       " 63]"
      ]
     },
     "execution_count": 34,
     "metadata": {},
     "output_type": "execute_result"
    }
   ],
   "source": [
    "findDuplicates([13,98,15,75,16,49,25,10,62,1,8,49,7,25,79,67,81,93,62,83,61,46,17,50,29,27,3,24,41,35,69,34,28,12,18,46,72,64,2,64,11,17,48,52,95,89,19,40,83,24,82,32,84,88,66,39,54,61,36,9,30,88,16,52,81,80,22,37,44,85,35,60,22,70,34,54,63,8,60,92,2,20,40,50,96,70,10,98,66,51,6,65,97,67,57,9,27,82,63,59])"
   ]
  }
 ],
 "metadata": {
  "kernelspec": {
   "display_name": "Python 3.10.2 64-bit",
   "language": "python",
   "name": "python3"
  },
  "language_info": {
   "codemirror_mode": {
    "name": "ipython",
    "version": 3
   },
   "file_extension": ".py",
   "mimetype": "text/x-python",
   "name": "python",
   "nbconvert_exporter": "python",
   "pygments_lexer": "ipython3",
   "version": "3.10.2"
  },
  "orig_nbformat": 4,
  "vscode": {
   "interpreter": {
    "hash": "aee8b7b246df8f9039afb4144a1f6fd8d2ca17a180786b69acc140d282b71a49"
   }
  }
 },
 "nbformat": 4,
 "nbformat_minor": 2
}
